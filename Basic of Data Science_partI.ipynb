{
 "cells": [
  {
   "cell_type": "markdown",
   "metadata": {},
   "source": [
    "# The First Part of the Assignment of IDS 2019-2020\n",
    "\n",
    "Document your results as well as the way you obtained them in this jupyter notebook. A seperate report (pdf, word etc.) is _not_ required. However, it is necessary that you provide the python code leading to your results as well as textual answers to the assignment questions in this notebook. _DO NOT CLEAR THE OUTPUT of the notebook your are submitting!_ In the cases that the result of an algorithm is pdf, jpg, etc, you should attach the result to this notebook file and refer to that in the text.\n",
    "\n",
    "Next to the jupyter notebook, submit one zip-file containing all data sets that you are asked to submit. Make sure they are easily identifiable, i.e. use names as requested in the corresponding question.\n",
    "\n",
    "Do not change the general structure of this notebook, but you can add further markdown or code cells to explain your solutions if necessary. In the end, submit this file and your created data sets in moodle.\n",
    "\n",
    "Only <font color=\"red\">one </font> group member should upload your group's solution. _Make sure to include group members' names and matriculation numbers_. If your name and student id are not included in the report, you will not receive any points!\n",
    "\n",
    "Hint 1: While answering the questions, you will get a better and better impression of the given data. However, feel free to compute additional results and vizualizations to motivate the decisions you need to make, for example with respect to modification, simplification or sampling of the data. <font color=\"red\"><b>Ensure that all claims you make are supported by the presented facts!</b></font>\n",
    "\n",
    "Hint 2: <font color=\"red\"><b>Some of the tasks might need some time to run. Take this into account in your planning.</b></font>\n",
    "\n",
    "Hint 3: RWTHonline allows for multiple submissions (each submission overwrites the previous ones). <font color=\"red\"><b>Partial submissions are possible and encouraged. </b></font> This helps in case of technical problems of RWTHonline, which do seldomly happen."
   ]
  },
  {
   "cell_type": "markdown",
   "metadata": {},
   "source": [
    "<font color=\"red\"><b>Student Names and IDs: \n",
    "1. Romayssa Bedjaoui 402197\n",
    "2. Moncef Benaicha 403758\n",
    "3. Narek Gevorgyan 404010"
   ]
  },
  {
   "cell_type": "code",
   "execution_count": 1,
   "metadata": {
    "scrolled": true
   },
   "outputs": [],
   "source": [
    "# All import will be here\n",
    "import pandas as pd\n",
    "import numpy as np\n",
    "import scipy as scp\n",
    "\n",
    "import seaborn as sns\n",
    "import matplotlib.pyplot as plt\n",
    "from prettytable import PrettyTable\n",
    "\n",
    "from sklearn.model_selection import train_test_split\n",
    "from sklearn.model_selection import KFold\n",
    "from sklearn.svm import SVC\n",
    "from sklearn.neural_network import MLPClassifier\n",
    "\n",
    "from sklearn.metrics import confusion_matrix, accuracy_score, precision_score, recall_score, f1_score\n",
    "\n",
    "\n",
    "from sklearn.preprocessing import StandardScaler, LabelEncoder\n",
    "from sklearn import svm\n",
    "import warnings\n",
    "warnings.filterwarnings('ignore')\n",
    "import time\n",
    "from sklearn.model_selection import GridSearchCV"
   ]
  },
  {
   "cell_type": "markdown",
   "metadata": {},
   "source": [
    "## Preprocessing of the Dataset (5 points)\n",
    "\n",
    "You should carry out some preprocessing steps before starting the analysis:\n",
    "\n",
    "- Select 90% of 'population_density' dataset by random sampling.\n",
    "  - Use one of the group member's student number as a seed.\n",
    "- Add another column to the dataset:\n",
    "  - Name it 'population_density_categorical'.\n",
    "  - The values in this column depend on values in 'population_density' column and will be defined as follows:\n",
    "    - 5824=<population density corresponding value in 'population_density_categorical' column: 'very high'\n",
    "    - 4368=<population density<5824 corresponding value in 'population_density_categorical' column: 'high'\n",
    "    - 2912=<population density<4368 corresponding value in 'population_density_categorical' column: 'medium'\n",
    "    - 1456=<population density<2912 corresponding value in 'population_density_categorical' column: 'low'\n",
    "    - population density<1456 corresponding value in 'population_density_categorical' column: 'very low'\n",
    "- After completing this preprocessing step, export your final dataset as 'population_density_categorical.csv' dataset and use that for next steps of the assignment.\n",
    "- If it is not directly mentioned, you should always use your extracted (above-created) dataset (without any cleaning).\n",
    "- <font color='red'>Important!</font> Make sure that you submit your extracted dataset with your result in moodle."
   ]
  },
  {
   "cell_type": "markdown",
   "metadata": {},
   "source": [
    "### Extra data modifications \n",
    "\n",
    "In the original data feature 'holiday' reflects correct value for non-'None' DAY only for the first row of the DAY.\n",
    "This issue could badly affect on the learning process as it reflects that ther is no correlation between the value of 'holiday' and the value of the 'date' variable. I suggest to correct dataset to get rid of this problem."
   ]
  },
  {
   "cell_type": "code",
   "execution_count": 2,
   "metadata": {},
   "outputs": [],
   "source": [
    "native_data = pd.read_csv(\"population_density.csv\")\n",
    "\n",
    "# Change 'holiday' value of samples that there is a non-'None' sample with the same date\n",
    "\n",
    "native_data['date'] = native_data['date_time'].apply(lambda x: x.split()[0])\n",
    "\n",
    "for row in range(native_data.shape[0]):\n",
    "    if native_data.loc[row]['holiday'] != 'None':\n",
    "        native_data.loc[native_data['date'] == native_data.loc[row]['date'], 'holiday'] = native_data.loc[row]['holiday']\n",
    "native_data.drop(columns = ['date'])\n",
    "\n",
    "dataset = native_data.sample(frac = 0.9, random_state = 34234)\n",
    "\n",
    "dataset[\"population_density_categorical\"] = list(\n",
    "    map(\n",
    "        lambda x: 'very high'\n",
    "        if x >= 5824 else ('high'\n",
    "                           if x >= 4368 else ('low'\n",
    "                                              if x >= 2912 else 'very low')),\n",
    "        dataset[\"population_density\"]))\n",
    "\n",
    "dataset.to_csv('population_density_categorical.csv')"
   ]
  },
  {
   "cell_type": "markdown",
   "metadata": {},
   "source": [
    "## Question 1 - Insights into the Data (20 points):"
   ]
  },
  {
   "cell_type": "code",
   "execution_count": 3,
   "metadata": {},
   "outputs": [],
   "source": [
    "data = pd.read_csv(\"population_density_categorical.csv\", index_col = 0)"
   ]
  },
  {
   "cell_type": "markdown",
   "metadata": {},
   "source": [
    "### Dealing with Outliers (10 points)\n",
    "\n",
    "(a) Use a boxplot to find and remove the outliers from \"temperature\". Note that based on the boxplot the values greater than upper-whisker and less than lower-whisker are considered as the outliers. Now you should have two datasets (cleaned and original)."
   ]
  },
  {
   "cell_type": "code",
   "execution_count": 4,
   "metadata": {
    "scrolled": true
   },
   "outputs": [
    {
     "data": {
      "image/png": "[encoded data removed]",
      "text/plain": [
       "<Figure size 432x288 with 1 Axes>"
      ]
     },
     "metadata": {
      "needs_background": "light"
     },
     "output_type": "display_data"
    }
   ],
   "source": [
    "# Your code:\n",
    "plt.boxplot(dataset[\"temperature\"])\n",
    "plt.show()\n",
    "clean_dataset = dataset[dataset[\"temperature\"] != 0]"
   ]
  },
  {
   "cell_type": "markdown",
   "metadata": {},
   "source": [
    "#### We see from the box plot that the points that have feature 'temperature' =  0 are the outliers. Let's chech this result"
   ]
  },
  {
   "cell_type": "code",
   "execution_count": 5,
   "metadata": {},
   "outputs": [
    {
     "name": "stdout",
     "output_type": "stream",
     "text": [
      "0.0\n",
      "0.0\n",
      "0.0\n",
      "0.0\n",
      "0.0\n",
      "0.0\n",
      "0.0\n",
      "0.0\n",
      "0.0\n"
     ]
    }
   ],
   "source": [
    "upper_quartile = np.percentile(data['temperature'], 75)\n",
    "lower_quartile = np.percentile(data['temperature'], 25)\n",
    "\n",
    "iqr = upper_quartile - lower_quartile\n",
    "upper_whisker = max(data[data['temperature'] <= upper_quartile + 1.5*iqr]['temperature'])\n",
    "lower_whisker = min(data[data['temperature'] >= lower_quartile - 1.5*iqr]['temperature'])\n",
    "\n",
    "for num in data['temperature']:\n",
    "    if (num > upper_whisker or num < lower_whisker):\n",
    "        print(num)    "
   ]
  },
  {
   "cell_type": "markdown",
   "metadata": {},
   "source": [
    "(b) Compare basic statistical features of \"temperature\" (median, mean, and mode) in the cleaned and original datasets. Interpret the differences for these statistical values between the cleaned and original datasets."
   ]
  },
  {
   "cell_type": "code",
   "execution_count": 6,
   "metadata": {
    "scrolled": true
   },
   "outputs": [
    {
     "name": "stdout",
     "output_type": "stream",
     "text": [
      "+----------+-----------------------+---------------------+---------------------+\n",
      "| dataset  | median of temperature | mean of temperature | mode of temperature |\n",
      "+----------+-----------------------+---------------------+---------------------+\n",
      "| original |         282.46        |  281.2122535496988  |        274.15       |\n",
      "| cleaned  |         282.46        |  281.27060306628545 |        274.15       |\n",
      "+----------+-----------------------+---------------------+---------------------+\n"
     ]
    }
   ],
   "source": [
    "# Your code:\n",
    "dataset_temperature = dataset[\"temperature\"]\n",
    "clean_dataset_temperature = clean_dataset[\"temperature\"]\n",
    "x = PrettyTable(field_names=[\n",
    "    'dataset', 'median of temperature', 'mean of temperature',\n",
    "    'mode of temperature'\n",
    "])\n",
    "x.add_row([\n",
    "    'original',\n",
    "    np.median(dataset_temperature),\n",
    "    np.mean(dataset_temperature),\n",
    "    scp.stats.mode(dataset_temperature)[0][0]\n",
    "])\n",
    "x.add_row([\n",
    "    'cleaned',\n",
    "    np.median(clean_dataset_temperature),\n",
    "    np.mean(clean_dataset_temperature),\n",
    "    scp.stats.mode(clean_dataset_temperature)[0][0]])\n",
    "print(x)"
   ]
  },
  {
   "cell_type": "markdown",
   "metadata": {},
   "source": [
    "### Comparaison of the stats:\n",
    "\n",
    "The original and the cleaned temperature have the same mode and median. Only the means are different.\n",
    "This is because the mean is a non robust mesure, outliers affect the mean of data by skewing the values so the mean is no longer representative of the data.\n"
   ]
  },
  {
   "cell_type": "markdown",
   "metadata": {},
   "source": [
    "(c) Compare the number of data rows before and after removing the outliers. How many data rows are removed by removing outliers?"
   ]
  },
  {
   "cell_type": "code",
   "execution_count": 7,
   "metadata": {},
   "outputs": [
    {
     "name": "stdout",
     "output_type": "stream",
     "text": [
      "Size of the original dataset: (43384, 11)\n",
      "Size of the cleaned dataset: (43375, 11)\n",
      "Rows removed: 9\n"
     ]
    }
   ],
   "source": [
    "print('Size of the original dataset:', dataset.shape)\n",
    "print('Size of the cleaned dataset:', clean_dataset.shape)\n",
    "print('Rows removed:', dataset.shape[0] - clean_dataset.shape[0])"
   ]
  },
  {
   "cell_type": "markdown",
   "metadata": {},
   "source": [
    "### Basic Visualization (10 points)\n",
    "\n",
    "(d) Visualize mean and median of \"population_density\" for non-'None' \"holiday\" values in the original dataset. Specify the \"holiday\" values for which the mean of \"population_density\" is maximal and for which it is minimal."
   ]
  },
  {
   "cell_type": "code",
   "execution_count": 8,
   "metadata": {},
   "outputs": [
    {
     "data": {
      "text/plain": [
       "<function matplotlib.pyplot.show(*args, **kw)>"
      ]
     },
     "execution_count": 8,
     "metadata": {},
     "output_type": "execute_result"
    },
    {
     "data": {
      "image/png": "[encoded data removed]",
      "text/plain": [
       "<Figure size 1800x720 with 1 Axes>"
      ]
     },
     "metadata": {
      "needs_background": "light"
     },
     "output_type": "display_data"
    }
   ],
   "source": [
    "plt.figure(figsize=(25, 10))\n",
    "sns.barplot(x = 'holiday', y = 'population_density', \n",
    "            data = dataset[dataset['holiday'] != 'None'], estimator = np.mean)\n",
    "plt.title(\"Mean visualization of population density by holiday\")\n",
    "plt.show"
   ]
  },
  {
   "cell_type": "code",
   "execution_count": 9,
   "metadata": {},
   "outputs": [
    {
     "data": {
      "text/plain": [
       "<function matplotlib.pyplot.show(*args, **kw)>"
      ]
     },
     "execution_count": 9,
     "metadata": {},
     "output_type": "execute_result"
    },
    {
     "data": {
      "image/png": "[encoded data removed]",
      "text/plain": [
       "<Figure size 1800x720 with 1 Axes>"
      ]
     },
     "metadata": {
      "needs_background": "light"
     },
     "output_type": "display_data"
    }
   ],
   "source": [
    "plt.figure(figsize=(25, 10))\n",
    "sns.barplot(x = 'holiday', y = 'population_density', \n",
    "            data = data[data['holiday'] != 'None'], estimator = np.median)\n",
    "plt.title(\"Median visualization of population density by holiday\")\n",
    "plt.show"
   ]
  },
  {
   "cell_type": "markdown",
   "metadata": {},
   "source": [
    "As shown in the graph the \"holiday\" values for which the mean of \"population_density\" is :\n",
    "- Maximal: State Fair.\n",
    "- Minimal: Christmas Day.\n",
    "\n",
    "<I> Nota benne: \n",
    "Before our extra-processing \"holiday\" values for which the mean of \"population_density\" were : Maximal: New Year day & Minimal: Columbus day.\n",
    "</I>"
   ]
  },
  {
   "cell_type": "markdown",
   "metadata": {},
   "source": [
    "(e) Plot the distribution of \"temperature\" in the original and cleaned datasets."
   ]
  },
  {
   "cell_type": "code",
   "execution_count": 10,
   "metadata": {},
   "outputs": [
    {
     "data": {
      "image/png": "[encoded data removed]",
      "text/plain": [
       "<Figure size 1080x360 with 2 Axes>"
      ]
     },
     "metadata": {
      "needs_background": "light"
     },
     "output_type": "display_data"
    }
   ],
   "source": [
    "# Your code:\n",
    "fig = plt.figure(figsize=(15,5))\n",
    "ax1 = fig.add_subplot(121)\n",
    "ax2 = fig.add_subplot(122)\n",
    "sns.distplot(dataset[\"temperature\"],hist=False, rug=True, ax=ax1)\n",
    "\n",
    "sns.distplot(clean_dataset[\"temperature\"],hist=False, rug=True, ax=ax2)\n",
    "plt.suptitle('Original                   VS                            cleaned')\n",
    "plt.show()"
   ]
  },
  {
   "cell_type": "markdown",
   "metadata": {},
   "source": [
    "(f) Explore the distribution of \"population_density\" and \"temperature\" together in the cleaned dataset. Specify the ranges of \"temperature\" and \"population_density\" for which the frequency of the data is the highest."
   ]
  },
  {
   "cell_type": "code",
   "execution_count": 11,
   "metadata": {
    "scrolled": true
   },
   "outputs": [
    {
     "data": {
      "text/plain": [
       "<seaborn.axisgrid.JointGrid at 0x1a27107890>"
      ]
     },
     "execution_count": 11,
     "metadata": {},
     "output_type": "execute_result"
    },
    {
     "data": {
      "image/png": "[encoded data removed]",
      "text/plain": [
       "<Figure size 432x432 with 3 Axes>"
      ]
     },
     "metadata": {
      "needs_background": "light"
     },
     "output_type": "display_data"
    }
   ],
   "source": [
    "# Your code:\n",
    "sns.jointplot(x=\"temperature\",y=\"population_density\", data=clean_dataset,kind='kde')"
   ]
  },
  {
   "cell_type": "markdown",
   "metadata": {},
   "source": [
    "The frequency of the data is high for 4 ranges points :\n",
    "    1. Population_density between 4000 & 6000 (~ 5000) AND Temperature between 270 & 280 (~275)\n",
    "    2. Population_density between 0 & 2000 (~ 500) AND> Temperature between 270 & 280 (~ 275)\n",
    "    3. Population_density between 4000 and 6000 (~5000) AND Temperature between 290 and 300 (~292)\n",
    "    4. Population_density between 0 and 2000 (~ 500)  AND Temperature between 290 and 300 (~ 292)\n",
    "    \n",
    " it shows also that the highest frequency range is:  \n",
    "   - Population_density between 0 & 2000 (~ 500) AND> Temperature between 270 & 280 (~ 275)\n",
    "   - Population_density between 0 and 2000 (~ 500)  AND Temperature between 290 and 300 (~ 292)"
   ]
  },
  {
   "cell_type": "markdown",
   "metadata": {},
   "source": [
    "## Question 2 - Decision Trees (15 points):"
   ]
  },
  {
   "cell_type": "markdown",
   "metadata": {},
   "source": [
    "(a) Add a categorical temperature column to the cleaned dataset based on the following rules and name it \"temperature_categorical\": - temperature >= upper_quartile (third quartile) corresponding value in 'temperature_categorical' column: 'high' - temperature <= lower_quartile (first quartile) corresponding value in 'temperature_categorical' column: 'low' - lower_quartile < temperature < upper_quartile corresponding value in 'temperature_categorical' column: 'medium'"
   ]
  },
  {
   "cell_type": "code",
   "execution_count": 12,
   "metadata": {
    "scrolled": true
   },
   "outputs": [],
   "source": [
    "new_cattemp_col = list()\n",
    "for num in clean_dataset['temperature']:\n",
    "    if num >= upper_quartile:\n",
    "        new_cattemp_col.append('high')\n",
    "    elif num <= lower_quartile:\n",
    "        new_cattemp_col.append('low')\n",
    "    else:\n",
    "        new_cattemp_col.append('medium')\n",
    "        \n",
    "clean_dataset['temperature_categorical'] = new_cattemp_col"
   ]
  },
  {
   "cell_type": "markdown",
   "metadata": {},
   "source": [
    "(b) In the new dataset (created in Section 'a'), consider \"holiday\", \"temperature_categorical\", and \"weather_type\" as the descriptive features and \"population_density_categorical\" as the target feature. Set the minimum number of samples for splitting to 5000 and make a decision tree based on entropy."
   ]
  },
  {
   "cell_type": "code",
   "execution_count": 13,
   "metadata": {
    "scrolled": true
   },
   "outputs": [],
   "source": [
    "from p_decision_tree.DecisionTree import DecisionTree\n",
    "\n",
    "descriptive_features = ['holiday', 'temperature_categorical', 'weather_type']\n",
    "\n",
    "data_descriptive = clean_dataset[descriptive_features].values\n",
    "data_label = clean_dataset[\"population_density_categorical\"].values\n",
    "\n",
    "decisionTree = DecisionTree(data_descriptive, descriptive_features, data_label, \"entropy\")\n",
    "\n",
    "decisionTree.id3(0,5000)\n",
    "\n",
    "dot = decisionTree.print_visualTree( render=True )\n"
   ]
  },
  {
   "cell_type": "markdown",
   "metadata": {},
   "source": [
    "(c) What is the best attribute (based on entropy) for splitting the tree in the second round of ID3?"
   ]
  },
  {
   "cell_type": "markdown",
   "metadata": {},
   "source": [
    "#### Answer:\n",
    "'weather_type'\n",
    "\n",
    "#### Explanation: \n",
    "From the attached image of decision tree (visualTree.gv.pdf) we can conclude that the feature 'temperature_categorical' is consider the most informatife for the first round. And for the second round to maximize information gain, algorithm choose 'weather_type'.\n",
    "\n"
   ]
  },
  {
   "cell_type": "markdown",
   "metadata": {},
   "source": [
    "## Question 3 - Regression (10 points):\n",
    "\n",
    "For this question (Q3), restrict your <b>extracted data set</b> to the columns _holiday, temperature, rain_1h, snow_1h, clouds_percentage, date_time_ and _population_density_. Drop the information on the date for _date_time_ and restrict the data to time values (hour) only.\n",
    "\n",
    "We define _population_density_ to be our target feature, while all other features are considered descriptive."
   ]
  },
  {
   "cell_type": "code",
   "execution_count": 14,
   "metadata": {},
   "outputs": [],
   "source": [
    "data_regression = pd.read_csv(\"population_density_categorical.csv\", index_col = 0)[['holiday', 'temperature', 'rain_1h', 'snow_1h', \n",
    "                                                                            'clouds_percentage', 'date_time', 'population_density']]"
   ]
  },
  {
   "cell_type": "code",
   "execution_count": 15,
   "metadata": {
    "scrolled": true
   },
   "outputs": [],
   "source": [
    "data_regression[\"date_time\"]=pd.to_datetime(data_regression[\"date_time\"])\n",
    "data_regression[\"hour\"]=data_regression[\"date_time\"].dt.hour\n",
    "del(data_regression[\"date_time\"])"
   ]
  },
  {
   "cell_type": "code",
   "execution_count": 16,
   "metadata": {},
   "outputs": [
    {
     "data": {
      "text/html": [
       "<div>\n",
       "<style scoped>\n",
       "    .dataframe tbody tr th:only-of-type {\n",
       "        vertical-align: middle;\n",
       "    }\n",
       "\n",
       "    .dataframe tbody tr th {\n",
       "        vertical-align: top;\n",
       "    }\n",
       "\n",
       "    .dataframe thead th {\n",
       "        text-align: right;\n",
       "    }\n",
       "</style>\n",
       "<table border=\"1\" class=\"dataframe\">\n",
       "  <thead>\n",
       "    <tr style=\"text-align: right;\">\n",
       "      <th></th>\n",
       "      <th>holiday</th>\n",
       "      <th>temperature</th>\n",
       "      <th>rain_1h</th>\n",
       "      <th>snow_1h</th>\n",
       "      <th>clouds_percentage</th>\n",
       "      <th>population_density</th>\n",
       "      <th>hour</th>\n",
       "    </tr>\n",
       "  </thead>\n",
       "  <tbody>\n",
       "    <tr>\n",
       "      <th>38079</th>\n",
       "      <td>None</td>\n",
       "      <td>276.93</td>\n",
       "      <td>0.0</td>\n",
       "      <td>0.0</td>\n",
       "      <td>1</td>\n",
       "      <td>2874</td>\n",
       "      <td>5</td>\n",
       "    </tr>\n",
       "    <tr>\n",
       "      <th>887</th>\n",
       "      <td>None</td>\n",
       "      <td>275.44</td>\n",
       "      <td>0.0</td>\n",
       "      <td>0.0</td>\n",
       "      <td>90</td>\n",
       "      <td>2911</td>\n",
       "      <td>9</td>\n",
       "    </tr>\n",
       "    <tr>\n",
       "      <th>841</th>\n",
       "      <td>None</td>\n",
       "      <td>278.78</td>\n",
       "      <td>0.0</td>\n",
       "      <td>0.0</td>\n",
       "      <td>75</td>\n",
       "      <td>5403</td>\n",
       "      <td>12</td>\n",
       "    </tr>\n",
       "    <tr>\n",
       "      <th>37527</th>\n",
       "      <td>None</td>\n",
       "      <td>284.00</td>\n",
       "      <td>0.0</td>\n",
       "      <td>0.0</td>\n",
       "      <td>5</td>\n",
       "      <td>2020</td>\n",
       "      <td>22</td>\n",
       "    </tr>\n",
       "    <tr>\n",
       "      <th>21471</th>\n",
       "      <td>None</td>\n",
       "      <td>275.48</td>\n",
       "      <td>0.0</td>\n",
       "      <td>0.0</td>\n",
       "      <td>75</td>\n",
       "      <td>3115</td>\n",
       "      <td>19</td>\n",
       "    </tr>\n",
       "  </tbody>\n",
       "</table>\n",
       "</div>"
      ],
      "text/plain": [
       "      holiday  temperature  rain_1h  snow_1h  clouds_percentage  \\\n",
       "38079    None       276.93      0.0      0.0                  1   \n",
       "887      None       275.44      0.0      0.0                 90   \n",
       "841      None       278.78      0.0      0.0                 75   \n",
       "37527    None       284.00      0.0      0.0                  5   \n",
       "21471    None       275.48      0.0      0.0                 75   \n",
       "\n",
       "       population_density  hour  \n",
       "38079                2874     5  \n",
       "887                  2911     9  \n",
       "841                  5403    12  \n",
       "37527                2020    22  \n",
       "21471                3115    19  "
      ]
     },
     "execution_count": 16,
     "metadata": {},
     "output_type": "execute_result"
    }
   ],
   "source": [
    "data_regression.head()"
   ]
  },
  {
   "cell_type": "markdown",
   "metadata": {},
   "source": [
    "(a) Which features are suitable as an input for linear regression and which need to be modified first? Why?"
   ]
  },
  {
   "cell_type": "markdown",
   "metadata": {},
   "source": [
    "Explanation: \n",
    "\n",
    "For regression features needs to be numerical and not categorical, this implies that the feature holiday needs to be changed all the other features are numerical and they can be used."
   ]
  },
  {
   "cell_type": "markdown",
   "metadata": {},
   "source": [
    "(b) Implement and briefly motivate an adequate modification. Print the resulting data set limited to the first two data rows."
   ]
  },
  {
   "cell_type": "markdown",
   "metadata": {},
   "source": [
    "Explanation:\n",
    "\n",
    "We apply get dummies o make the feature holiday non catigorical are there's no ranking difference between the categories."
   ]
  },
  {
   "cell_type": "code",
   "execution_count": 17,
   "metadata": {
    "scrolled": true
   },
   "outputs": [
    {
     "data": {
      "text/html": [
       "<div>\n",
       "<style scoped>\n",
       "    .dataframe tbody tr th:only-of-type {\n",
       "        vertical-align: middle;\n",
       "    }\n",
       "\n",
       "    .dataframe tbody tr th {\n",
       "        vertical-align: top;\n",
       "    }\n",
       "\n",
       "    .dataframe thead th {\n",
       "        text-align: right;\n",
       "    }\n",
       "</style>\n",
       "<table border=\"1\" class=\"dataframe\">\n",
       "  <thead>\n",
       "    <tr style=\"text-align: right;\">\n",
       "      <th></th>\n",
       "      <th>temperature</th>\n",
       "      <th>rain_1h</th>\n",
       "      <th>snow_1h</th>\n",
       "      <th>clouds_percentage</th>\n",
       "      <th>population_density</th>\n",
       "      <th>hour</th>\n",
       "      <th>_Christmas Day</th>\n",
       "      <th>_Columbus Day</th>\n",
       "      <th>_Independence Day</th>\n",
       "      <th>_Labor Day</th>\n",
       "      <th>_Martin Luther King Jr Day</th>\n",
       "      <th>_Memorial Day</th>\n",
       "      <th>_New Years Day</th>\n",
       "      <th>_None</th>\n",
       "      <th>_State Fair</th>\n",
       "      <th>_Thanksgiving Day</th>\n",
       "      <th>_Veterans Day</th>\n",
       "      <th>_Washingtons Birthday</th>\n",
       "    </tr>\n",
       "  </thead>\n",
       "  <tbody>\n",
       "    <tr>\n",
       "      <th>38079</th>\n",
       "      <td>276.93</td>\n",
       "      <td>0.0</td>\n",
       "      <td>0.0</td>\n",
       "      <td>1</td>\n",
       "      <td>2874</td>\n",
       "      <td>5</td>\n",
       "      <td>0</td>\n",
       "      <td>0</td>\n",
       "      <td>0</td>\n",
       "      <td>0</td>\n",
       "      <td>0</td>\n",
       "      <td>0</td>\n",
       "      <td>0</td>\n",
       "      <td>1</td>\n",
       "      <td>0</td>\n",
       "      <td>0</td>\n",
       "      <td>0</td>\n",
       "      <td>0</td>\n",
       "    </tr>\n",
       "    <tr>\n",
       "      <th>887</th>\n",
       "      <td>275.44</td>\n",
       "      <td>0.0</td>\n",
       "      <td>0.0</td>\n",
       "      <td>90</td>\n",
       "      <td>2911</td>\n",
       "      <td>9</td>\n",
       "      <td>0</td>\n",
       "      <td>0</td>\n",
       "      <td>0</td>\n",
       "      <td>0</td>\n",
       "      <td>0</td>\n",
       "      <td>0</td>\n",
       "      <td>0</td>\n",
       "      <td>1</td>\n",
       "      <td>0</td>\n",
       "      <td>0</td>\n",
       "      <td>0</td>\n",
       "      <td>0</td>\n",
       "    </tr>\n",
       "  </tbody>\n",
       "</table>\n",
       "</div>"
      ],
      "text/plain": [
       "       temperature  rain_1h  snow_1h  clouds_percentage  population_density  \\\n",
       "38079       276.93      0.0      0.0                  1                2874   \n",
       "887         275.44      0.0      0.0                 90                2911   \n",
       "\n",
       "       hour  _Christmas Day  _Columbus Day  _Independence Day  _Labor Day  \\\n",
       "38079     5               0              0                  0           0   \n",
       "887       9               0              0                  0           0   \n",
       "\n",
       "       _Martin Luther King Jr Day  _Memorial Day  _New Years Day  _None  \\\n",
       "38079                           0              0               0      1   \n",
       "887                             0              0               0      1   \n",
       "\n",
       "       _State Fair  _Thanksgiving Day  _Veterans Day  _Washingtons Birthday  \n",
       "38079            0                  0              0                      0  \n",
       "887              0                  0              0                      0  "
      ]
     },
     "execution_count": 17,
     "metadata": {},
     "output_type": "execute_result"
    }
   ],
   "source": [
    "data_regression= pd.get_dummies(data_regression, prefix=\"\",columns=['holiday'])\n",
    "data_regression.head(2)"
   ]
  },
  {
   "cell_type": "markdown",
   "metadata": {},
   "source": [
    "(c) To get a first idea about our data, plot the behaviour of the target feature (population_density) over time (date_time)."
   ]
  },
  {
   "cell_type": "code",
   "execution_count": 18,
   "metadata": {
    "scrolled": true
   },
   "outputs": [
    {
     "data": {
      "image/png": "[encoded data removed]",
      "text/plain": [
       "<Figure size 864x288 with 1 Axes>"
      ]
     },
     "metadata": {
      "needs_background": "light"
     },
     "output_type": "display_data"
    }
   ],
   "source": [
    "means_hour = data_regression.groupby(['hour'])['population_density'].mean()\n",
    "fig, ax = plt.subplots(figsize=(12,4))\n",
    "means_hour.plot(ax=ax)\n",
    "#Plot configuration\n",
    "plt.grid( linestyle='dashdot', linewidth=1)\n",
    "plt.xlabel('Hours')\n",
    "plt.ylabel('Population density')\n",
    "plt.xticks(np.arange(0, 24, step=2))\n",
    "plt.yticks(np.arange(0, 6000, step=500))\n",
    "plt.show()"
   ]
  },
  {
   "cell_type": "markdown",
   "metadata": {},
   "source": [
    "(d) Create two distinct subsets of the data. Use sampling methods as described in the lecture. You should end up with two DIFFERENT sample data sets _RegA, RegB_. Include these data sets in the submitted data set zip file.\n",
    "\n",
    "Which sampling methods did you choose and why? Which one do you expect to result in a better classifier?"
   ]
  },
  {
   "cell_type": "code",
   "execution_count": 19,
   "metadata": {
    "scrolled": true
   },
   "outputs": [],
   "source": [
    "regA = data_regression.sample(frac = 0.5)\n",
    "regA.to_csv('reagA.csv')\n",
    "\n",
    "regB = data_regression.tail(int(data_regression.shape[0]/2))\n",
    "regB.to_csv('reagB.csv')"
   ]
  },
  {
   "cell_type": "markdown",
   "metadata": {},
   "source": [
    "Explanation:\n",
    "\n",
    "- regA: is a sample where we choosed a random sampling.\n",
    "- regB: is a sample where we used a Bottom sampling.\n",
    "\n",
    "Normaly regA will give better results as regB as random sampling will be more diversified than a bottom sampling, but our data is already randomized, so we can't infer anything before testing."
   ]
  },
  {
   "cell_type": "markdown",
   "metadata": {},
   "source": [
    "(e) Train a linear regression classifier based on each of the two sample data sets _RegA, RegB_ created before."
   ]
  },
  {
   "cell_type": "code",
   "execution_count": 20,
   "metadata": {},
   "outputs": [],
   "source": [
    "regA_inputs = regA.drop(columns = ['population_density'])\n",
    "regA_output = regA['population_density']\n",
    "\n",
    "regB_inputs = regB.drop(columns = ['population_density'])\n",
    "regB_output = regB['population_density']\n"
   ]
  },
  {
   "cell_type": "code",
   "execution_count": 21,
   "metadata": {},
   "outputs": [],
   "source": [
    "X_train_A, X_test_A, y_train_A, y_test_A = train_test_split(regA_inputs, regA_output, \n",
    "                                                                test_size=0.4, random_state=42)"
   ]
  },
  {
   "cell_type": "code",
   "execution_count": 22,
   "metadata": {},
   "outputs": [],
   "source": [
    "X_train_B, X_test_B,y_train_B, y_test_B = train_test_split(regB_inputs, regB_output, \n",
    "                                                               test_size=0.4, random_state=42)"
   ]
  },
  {
   "cell_type": "code",
   "execution_count": 23,
   "metadata": {},
   "outputs": [
    {
     "data": {
      "text/plain": [
       "LinearRegression(copy_X=True, fit_intercept=True, n_jobs=None, normalize=False)"
      ]
     },
     "execution_count": 23,
     "metadata": {},
     "output_type": "execute_result"
    }
   ],
   "source": [
    "from sklearn.linear_model import LinearRegression\n",
    "\n",
    "classifierA = LinearRegression()\n",
    "classifierA.fit(X_train_A,y_train_A)"
   ]
  },
  {
   "cell_type": "code",
   "execution_count": 24,
   "metadata": {},
   "outputs": [
    {
     "data": {
      "text/plain": [
       "LinearRegression(copy_X=True, fit_intercept=True, n_jobs=None, normalize=False)"
      ]
     },
     "execution_count": 24,
     "metadata": {},
     "output_type": "execute_result"
    }
   ],
   "source": [
    "classifierB = LinearRegression()\n",
    "classifierB.fit(X_train_B,y_train_B)"
   ]
  },
  {
   "cell_type": "markdown",
   "metadata": {},
   "source": [
    "(f) Visualize both computed regression functions in one plot each, combined with the original data set. For example, you can show a plot similar to 3(c) and insert the regression functions result."
   ]
  },
  {
   "cell_type": "code",
   "execution_count": 25,
   "metadata": {
    "scrolled": true
   },
   "outputs": [
    {
     "data": {
      "text/plain": [
       "[<matplotlib.lines.Line2D at 0x1a2a3a5d90>]"
      ]
     },
     "execution_count": 25,
     "metadata": {},
     "output_type": "execute_result"
    },
    {
     "data": {
      "image/png": "[encoded data removed]",
      "text/plain": [
       "<Figure size 432x288 with 1 Axes>"
      ]
     },
     "metadata": {
      "needs_background": "light"
     },
     "output_type": "display_data"
    }
   ],
   "source": [
    "y_predictA = classifierA.predict(X_test_A)\n",
    "plt.scatter(X_test_A.iloc[:,4],y_test_A)\n",
    "plt.plot(X_test_A.iloc[:,4],y_predictA)\n"
   ]
  },
  {
   "cell_type": "code",
   "execution_count": 26,
   "metadata": {},
   "outputs": [
    {
     "data": {
      "text/plain": [
       "[<matplotlib.lines.Line2D at 0x1a2c589bd0>]"
      ]
     },
     "execution_count": 26,
     "metadata": {},
     "output_type": "execute_result"
    },
    {
     "data": {
      "image/png": "[encoded data removed]",
      "text/plain": [
       "<Figure size 432x288 with 1 Axes>"
      ]
     },
     "metadata": {
      "needs_background": "light"
     },
     "output_type": "display_data"
    }
   ],
   "source": [
    "y_predictB = classifierB.predict(X_test_B)\n",
    "plt.scatter(X_test_B.iloc[:,4],y_test_B)\n",
    "plt.plot(X_test_B.iloc[:,4],y_predictB)"
   ]
  },
  {
   "cell_type": "markdown",
   "metadata": {},
   "source": [
    "(g) For each of the two resulting models compute and print the mean squared error, mean absolute error and median squared error with respect to the original, non-sampled data set. Also, present plots showing the errors and squared errors."
   ]
  },
  {
   "cell_type": "code",
   "execution_count": 27,
   "metadata": {
    "scrolled": true
   },
   "outputs": [
    {
     "name": "stdout",
     "output_type": "stream",
     "text": [
      "+--------+--------------------+---------------------+-----------------------+\n",
      "| Model  | Mean squared error | Mean absolute error | median absolute error |\n",
      "+--------+--------------------+---------------------+-----------------------+\n",
      "| regA   | 3367404.357540979  |  1622.1027902529354 |   1626.5664138157977  |\n",
      "| regB   |   3324414.747874   |  1610.1241598478382 |   1626.5664138157977  |\n",
      "+--------+--------------------+---------------------+-----------------------+\n"
     ]
    }
   ],
   "source": [
    "from sklearn.metrics import mean_squared_error, median_absolute_error, mean_absolute_error\n",
    "\n",
    "x = PrettyTable(field_names=[\n",
    "    'Model ','Mean squared error', 'Mean absolute error','median absolute error'])\n",
    "x.add_row(['regA ',\n",
    "    mean_squared_error(y_test_A, y_predictA),\n",
    "    mean_absolute_error(y_test_A, y_predictA),\n",
    "    median_absolute_error(y_test_B, y_predictB)\n",
    "])\n",
    "x.add_row(['regB ',\n",
    "    mean_squared_error(y_test_B, y_predictB),\n",
    "    mean_absolute_error(y_test_B, y_predictB),\n",
    "    median_absolute_error(y_test_B, y_predictB)\n",
    "])\n",
    "print(x)\n"
   ]
  },
  {
   "cell_type": "code",
   "execution_count": 28,
   "metadata": {},
   "outputs": [
    {
     "data": {
      "image/png": "[encoded data removed]",
      "text/plain": [
       "<Figure size 432x288 with 1 Axes>"
      ]
     },
     "metadata": {
      "needs_background": "light"
     },
     "output_type": "display_data"
    }
   ],
   "source": [
    "plt.scatter(y_predictA, (y_test_A -y_predictA) ** 2, color = \"blue\", s = 10,) \n",
    "plt.title(\"Squared errors\")\n",
    "plt.xlabel('predicted values')\n",
    "plt.ylabel('squared error')\n",
    "plt.show()"
   ]
  },
  {
   "cell_type": "code",
   "execution_count": 29,
   "metadata": {},
   "outputs": [
    {
     "data": {
      "image/png": "[encoded data removed]",
      "text/plain": [
       "<Figure size 432x288 with 1 Axes>"
      ]
     },
     "metadata": {
      "needs_background": "light"
     },
     "output_type": "display_data"
    }
   ],
   "source": [
    "plt.scatter(y_predictB, (y_test_B -y_predictB) ** 2, color = \"blue\", s = 10,) \n",
    "plt.title(\"Squared errors\")\n",
    "plt.xlabel('predicted values')\n",
    "plt.ylabel('squared error')\n",
    "plt.show()"
   ]
  },
  {
   "cell_type": "markdown",
   "metadata": {},
   "source": [
    "(h) Interpret and evaluate the two models and compare them. Why are they similar/different? Which model do you recommend and why? How do you think the applied methods could be improved to get better results?"
   ]
  },
  {
   "cell_type": "markdown",
   "metadata": {},
   "source": [
    "Explanation:\n",
    "\n",
    "As shown in the computed errors metrics regA performs better than regB, as we expected doing a random sampling is better than bottom sampling.\n",
    "\n",
    "#### How to improve results:\n",
    "\n",
    "1. Doing outliers filletring, this will reduce the noise in the data.\n",
    "2. Doing two steps features selection and eliminating low correlated features with our target feature at first than doing a correlation between the input features and filtering correlated one by keeping one only(the most correlated with our target feature).\n",
    "3. Scaling and normalizing our data will help also to minimize the error."
   ]
  },
  {
   "cell_type": "markdown",
   "metadata": {},
   "source": [
    "## Question 4 - Support Vector Machines (10 points):\n",
    "\n",
    "For this question (Q4), restrict your <b>extracted data set</b> to the columns _holiday, temperature, rain_1h, snow_1h, clouds_percentage, date_time_ and _population_density_categorical_. For _date_time_, drop the information on the date and restrict the data to time values only.\n",
    "We define _population_density_categorical_ to be our target feature, while all other features are considered descriptive."
   ]
  },
  {
   "cell_type": "code",
   "execution_count": 227,
   "metadata": {},
   "outputs": [],
   "source": [
    "dataset = pd.read_csv(\"population_density_categorical.csv\", index_col = 0)"
   ]
  },
  {
   "cell_type": "code",
   "execution_count": 228,
   "metadata": {
    "scrolled": true
   },
   "outputs": [
    {
     "data": {
      "text/plain": [
       "(43384, 7)"
      ]
     },
     "execution_count": 228,
     "metadata": {},
     "output_type": "execute_result"
    }
   ],
   "source": [
    "# Your code:\n",
    "columns=[\"holiday\", \"temperature\", \"rain_1h\", \"snow_1h\", \"clouds_percentage\", \"date_time\",\"population_density_categorical\"]\n",
    "data_SVM=dataset[columns]\n",
    "data_SVM[\"date_time\"]=pd.to_datetime(data_SVM[\"date_time\"])\n",
    "data_SVM[\"time\"]=data_SVM[\"date_time\"].dt.time\n",
    "del(data_SVM[\"date_time\"])\n",
    "data_SVM.shape"
   ]
  },
  {
   "cell_type": "markdown",
   "metadata": {},
   "source": [
    "(a) Which features are suitable as an input for SVM and which need to be modified first? Modify the data as needed and provide a brief explanation."
   ]
  },
  {
   "cell_type": "code",
   "execution_count": 229,
   "metadata": {
    "scrolled": true
   },
   "outputs": [
    {
     "data": {
      "text/html": [
       "<div>\n",
       "<style scoped>\n",
       "    .dataframe tbody tr th:only-of-type {\n",
       "        vertical-align: middle;\n",
       "    }\n",
       "\n",
       "    .dataframe tbody tr th {\n",
       "        vertical-align: top;\n",
       "    }\n",
       "\n",
       "    .dataframe thead th {\n",
       "        text-align: right;\n",
       "    }\n",
       "</style>\n",
       "<table border=\"1\" class=\"dataframe\">\n",
       "  <thead>\n",
       "    <tr style=\"text-align: right;\">\n",
       "      <th></th>\n",
       "      <th>temperature</th>\n",
       "      <th>rain_1h</th>\n",
       "      <th>snow_1h</th>\n",
       "      <th>clouds_percentage</th>\n",
       "      <th>population_density_categorical</th>\n",
       "      <th>time</th>\n",
       "      <th>holiday__Christmas Day</th>\n",
       "      <th>holiday__Columbus Day</th>\n",
       "      <th>holiday__Independence Day</th>\n",
       "      <th>holiday__Labor Day</th>\n",
       "      <th>holiday__Martin Luther King Jr Day</th>\n",
       "      <th>holiday__Memorial Day</th>\n",
       "      <th>holiday__New Years Day</th>\n",
       "      <th>holiday__None</th>\n",
       "      <th>holiday__State Fair</th>\n",
       "      <th>holiday__Thanksgiving Day</th>\n",
       "      <th>holiday__Veterans Day</th>\n",
       "      <th>holiday__Washingtons Birthday</th>\n",
       "    </tr>\n",
       "  </thead>\n",
       "  <tbody>\n",
       "    <tr>\n",
       "      <th>38079</th>\n",
       "      <td>276.93</td>\n",
       "      <td>0.0</td>\n",
       "      <td>0.0</td>\n",
       "      <td>1</td>\n",
       "      <td>very low</td>\n",
       "      <td>05:00:00</td>\n",
       "      <td>0</td>\n",
       "      <td>0</td>\n",
       "      <td>0</td>\n",
       "      <td>0</td>\n",
       "      <td>0</td>\n",
       "      <td>0</td>\n",
       "      <td>0</td>\n",
       "      <td>1</td>\n",
       "      <td>0</td>\n",
       "      <td>0</td>\n",
       "      <td>0</td>\n",
       "      <td>0</td>\n",
       "    </tr>\n",
       "    <tr>\n",
       "      <th>887</th>\n",
       "      <td>275.44</td>\n",
       "      <td>0.0</td>\n",
       "      <td>0.0</td>\n",
       "      <td>90</td>\n",
       "      <td>very low</td>\n",
       "      <td>09:00:00</td>\n",
       "      <td>0</td>\n",
       "      <td>0</td>\n",
       "      <td>0</td>\n",
       "      <td>0</td>\n",
       "      <td>0</td>\n",
       "      <td>0</td>\n",
       "      <td>0</td>\n",
       "      <td>1</td>\n",
       "      <td>0</td>\n",
       "      <td>0</td>\n",
       "      <td>0</td>\n",
       "      <td>0</td>\n",
       "    </tr>\n",
       "    <tr>\n",
       "      <th>841</th>\n",
       "      <td>278.78</td>\n",
       "      <td>0.0</td>\n",
       "      <td>0.0</td>\n",
       "      <td>75</td>\n",
       "      <td>high</td>\n",
       "      <td>12:00:00</td>\n",
       "      <td>0</td>\n",
       "      <td>0</td>\n",
       "      <td>0</td>\n",
       "      <td>0</td>\n",
       "      <td>0</td>\n",
       "      <td>0</td>\n",
       "      <td>0</td>\n",
       "      <td>1</td>\n",
       "      <td>0</td>\n",
       "      <td>0</td>\n",
       "      <td>0</td>\n",
       "      <td>0</td>\n",
       "    </tr>\n",
       "  </tbody>\n",
       "</table>\n",
       "</div>"
      ],
      "text/plain": [
       "       temperature  rain_1h  snow_1h  clouds_percentage  \\\n",
       "38079       276.93      0.0      0.0                  1   \n",
       "887         275.44      0.0      0.0                 90   \n",
       "841         278.78      0.0      0.0                 75   \n",
       "\n",
       "      population_density_categorical      time  holiday__Christmas Day  \\\n",
       "38079                       very low  05:00:00                       0   \n",
       "887                         very low  09:00:00                       0   \n",
       "841                             high  12:00:00                       0   \n",
       "\n",
       "       holiday__Columbus Day  holiday__Independence Day  holiday__Labor Day  \\\n",
       "38079                      0                          0                   0   \n",
       "887                        0                          0                   0   \n",
       "841                        0                          0                   0   \n",
       "\n",
       "       holiday__Martin Luther King Jr Day  holiday__Memorial Day  \\\n",
       "38079                                   0                      0   \n",
       "887                                     0                      0   \n",
       "841                                     0                      0   \n",
       "\n",
       "       holiday__New Years Day  holiday__None  holiday__State Fair  \\\n",
       "38079                       0              1                    0   \n",
       "887                         0              1                    0   \n",
       "841                         0              1                    0   \n",
       "\n",
       "       holiday__Thanksgiving Day  holiday__Veterans Day  \\\n",
       "38079                          0                      0   \n",
       "887                            0                      0   \n",
       "841                            0                      0   \n",
       "\n",
       "       holiday__Washingtons Birthday  \n",
       "38079                              0  \n",
       "887                                0  \n",
       "841                                0  "
      ]
     },
     "execution_count": 229,
     "metadata": {},
     "output_type": "execute_result"
    }
   ],
   "source": [
    "# Your code\n",
    "data_SVM= pd.get_dummies(data_SVM, prefix='holiday_', columns=['holiday'])\n",
    "data_SVM.head(3)"
   ]
  },
  {
   "cell_type": "code",
   "execution_count": 230,
   "metadata": {},
   "outputs": [
    {
     "data": {
      "text/html": [
       "<div>\n",
       "<style scoped>\n",
       "    .dataframe tbody tr th:only-of-type {\n",
       "        vertical-align: middle;\n",
       "    }\n",
       "\n",
       "    .dataframe tbody tr th {\n",
       "        vertical-align: top;\n",
       "    }\n",
       "\n",
       "    .dataframe thead th {\n",
       "        text-align: right;\n",
       "    }\n",
       "</style>\n",
       "<table border=\"1\" class=\"dataframe\">\n",
       "  <thead>\n",
       "    <tr style=\"text-align: right;\">\n",
       "      <th></th>\n",
       "      <th>temperature</th>\n",
       "      <th>rain_1h</th>\n",
       "      <th>snow_1h</th>\n",
       "      <th>clouds_percentage</th>\n",
       "      <th>population_density_categorical</th>\n",
       "      <th>holiday__Christmas Day</th>\n",
       "      <th>holiday__Columbus Day</th>\n",
       "      <th>holiday__Independence Day</th>\n",
       "      <th>holiday__Labor Day</th>\n",
       "      <th>holiday__Martin Luther King Jr Day</th>\n",
       "      <th>holiday__Memorial Day</th>\n",
       "      <th>holiday__New Years Day</th>\n",
       "      <th>holiday__None</th>\n",
       "      <th>holiday__State Fair</th>\n",
       "      <th>holiday__Thanksgiving Day</th>\n",
       "      <th>holiday__Veterans Day</th>\n",
       "      <th>holiday__Washingtons Birthday</th>\n",
       "      <th>hr_sin</th>\n",
       "      <th>hr_cos</th>\n",
       "    </tr>\n",
       "  </thead>\n",
       "  <tbody>\n",
       "    <tr>\n",
       "      <th>38079</th>\n",
       "      <td>276.93</td>\n",
       "      <td>0.0</td>\n",
       "      <td>0.0</td>\n",
       "      <td>1</td>\n",
       "      <td>very low</td>\n",
       "      <td>0</td>\n",
       "      <td>0</td>\n",
       "      <td>0</td>\n",
       "      <td>0</td>\n",
       "      <td>0</td>\n",
       "      <td>0</td>\n",
       "      <td>0</td>\n",
       "      <td>1</td>\n",
       "      <td>0</td>\n",
       "      <td>0</td>\n",
       "      <td>0</td>\n",
       "      <td>0</td>\n",
       "      <td>9.659258e-01</td>\n",
       "      <td>0.258819</td>\n",
       "    </tr>\n",
       "    <tr>\n",
       "      <th>887</th>\n",
       "      <td>275.44</td>\n",
       "      <td>0.0</td>\n",
       "      <td>0.0</td>\n",
       "      <td>90</td>\n",
       "      <td>very low</td>\n",
       "      <td>0</td>\n",
       "      <td>0</td>\n",
       "      <td>0</td>\n",
       "      <td>0</td>\n",
       "      <td>0</td>\n",
       "      <td>0</td>\n",
       "      <td>0</td>\n",
       "      <td>1</td>\n",
       "      <td>0</td>\n",
       "      <td>0</td>\n",
       "      <td>0</td>\n",
       "      <td>0</td>\n",
       "      <td>7.071068e-01</td>\n",
       "      <td>-0.707107</td>\n",
       "    </tr>\n",
       "    <tr>\n",
       "      <th>841</th>\n",
       "      <td>278.78</td>\n",
       "      <td>0.0</td>\n",
       "      <td>0.0</td>\n",
       "      <td>75</td>\n",
       "      <td>high</td>\n",
       "      <td>0</td>\n",
       "      <td>0</td>\n",
       "      <td>0</td>\n",
       "      <td>0</td>\n",
       "      <td>0</td>\n",
       "      <td>0</td>\n",
       "      <td>0</td>\n",
       "      <td>1</td>\n",
       "      <td>0</td>\n",
       "      <td>0</td>\n",
       "      <td>0</td>\n",
       "      <td>0</td>\n",
       "      <td>1.224647e-16</td>\n",
       "      <td>-1.000000</td>\n",
       "    </tr>\n",
       "  </tbody>\n",
       "</table>\n",
       "</div>"
      ],
      "text/plain": [
       "       temperature  rain_1h  snow_1h  clouds_percentage  \\\n",
       "38079       276.93      0.0      0.0                  1   \n",
       "887         275.44      0.0      0.0                 90   \n",
       "841         278.78      0.0      0.0                 75   \n",
       "\n",
       "      population_density_categorical  holiday__Christmas Day  \\\n",
       "38079                       very low                       0   \n",
       "887                         very low                       0   \n",
       "841                             high                       0   \n",
       "\n",
       "       holiday__Columbus Day  holiday__Independence Day  holiday__Labor Day  \\\n",
       "38079                      0                          0                   0   \n",
       "887                        0                          0                   0   \n",
       "841                        0                          0                   0   \n",
       "\n",
       "       holiday__Martin Luther King Jr Day  holiday__Memorial Day  \\\n",
       "38079                                   0                      0   \n",
       "887                                     0                      0   \n",
       "841                                     0                      0   \n",
       "\n",
       "       holiday__New Years Day  holiday__None  holiday__State Fair  \\\n",
       "38079                       0              1                    0   \n",
       "887                         0              1                    0   \n",
       "841                         0              1                    0   \n",
       "\n",
       "       holiday__Thanksgiving Day  holiday__Veterans Day  \\\n",
       "38079                          0                      0   \n",
       "887                            0                      0   \n",
       "841                            0                      0   \n",
       "\n",
       "       holiday__Washingtons Birthday        hr_sin    hr_cos  \n",
       "38079                              0  9.659258e-01  0.258819  \n",
       "887                                0  7.071068e-01 -0.707107  \n",
       "841                                0  1.224647e-16 -1.000000  "
      ]
     },
     "execution_count": 230,
     "metadata": {},
     "output_type": "execute_result"
    }
   ],
   "source": [
    "import time as tm\n",
    "import numpy as np \n",
    "# data_SVM.info()\n",
    "import datetime \n",
    "data_SVM[\"time\"] = list(map(lambda x : int(str(x).split(':')[0]), data_SVM[\"time\"]))\n",
    "\n",
    "data_SVM['hr_sin'] = list(map(lambda x: np.sin(x*(2.*np.pi/24)), data_SVM[\"time\"])) \n",
    "data_SVM['hr_cos'] = list(map(lambda x: np.cos(x*(2.*np.pi/24)), data_SVM[\"time\"]))\n",
    "del(data_SVM[\"time\"])\n",
    "data_SVM.head(3)"
   ]
  },
  {
   "cell_type": "markdown",
   "metadata": {},
   "source": [
    "Explanation:\n",
    "\n",
    "The SVM assume that the input features are numerical and not categorical, this implies:\n",
    "\n",
    "1. The features that are suitable as an input are: Temperature, rain_1h, snow_1h, clouds_percentage\n",
    "2. The features that are not suitable as an input are: holiday, date_time\n",
    "\n",
    "Because the first features are real/int values so they don't need to be transformed, and the second features are objects, they need to be encoded.\n",
    "\n",
    "- <b>Holidays</b> : getdummies strategy will avoid to infere a difference of importance in holidays. \n",
    "- <b>Time</b>     : time is cyclic and a simple hot-encoding doesn't handle cyclical data. In our case for example: 23:00 will be far from 00:00. To correclty encode time we matched it with sinus and cosinus functions and added two features: time_sin and time_cos.\n",
    "\n",
    "<i>Nota Bene: This method added 12 features (from 7 to 19 features) to our initial dataset, but SVM reacts very well to high-dimensional data."
   ]
  },
  {
   "cell_type": "code",
   "execution_count": 231,
   "metadata": {},
   "outputs": [],
   "source": [
    "# transformation before learning\n",
    "# Scaling inputs\n",
    "inputs=[\"temperature\",\"rain_1h\",\"snow_1h\",\"clouds_percentage\",\"holiday__Christmas Day\",\"holiday__Columbus Day\",\"holiday__Independence Day\",\"holiday__Labor Day\",\"holiday__Martin Luther King Jr Day\",\"holiday__Memorial Day\",\"holiday__New Years Day\",\"holiday__None\",\"holiday__State Fair\",\"holiday__Thanksgiving Day\",\"holiday__Veterans Day\",\"holiday__Washingtons Birthday\",\"hr_sin\",\"hr_cos\"]\n",
    "data_SVM_inputs = StandardScaler().fit_transform(data_SVM[inputs])\n",
    "\n",
    "#Transforming the target into binary classses\n",
    "le =LabelEncoder()\n",
    "le.fit(data_SVM[\"population_density_categorical\"])\n",
    "LabelEncoder()\n",
    "le.classes_\n",
    "\n",
    "data_SVM_output=le.transform(data_SVM[\"population_density_categorical\"])"
   ]
  },
  {
   "cell_type": "markdown",
   "metadata": {},
   "source": [
    "### Remark\n",
    "Before applying SVM, data has to be scalled to avoid high range values for our features. This influences the precision and also time computing. SVM also expect a binary target to learn."
   ]
  },
  {
   "cell_type": "markdown",
   "metadata": {},
   "source": [
    "(b) Divide the data set into a training set _svmTrain_ and a test set _svmTest_ and briefly motivate your division strategy. Include these data sets in the data set zip file you submit.\n",
    "\n",
    "Hint: Training the SVMs will take longer for a large training set!"
   ]
  },
  {
   "cell_type": "code",
   "execution_count": 232,
   "metadata": {
    "scrolled": true
   },
   "outputs": [],
   "source": [
    "# Your code:\n",
    "import json\n",
    "X_train, X_test, y_train, y_test = train_test_split(data_SVM_inputs, data_SVM_output, test_size=0.7, random_state=42)\n",
    "# to do : store the dataset to a file\n",
    "\n",
    "svmTrain={'x_train': X_train, 'y_train':y_train}\n",
    "svmTest={'x_test': X_test, 'y_test':y_test}\n",
    "\n",
    "with open('svmTrain', 'w') as f:\n",
    "    for key in svmTrain.keys():\n",
    "        f.write(\"%s,%s\\n\"%(key,svmTrain[key]))\n",
    "        \n",
    "with open('svmTest', 'w') as f:\n",
    "    for key in svmTest.keys():\n",
    "        f.write(\"%s,%s\\n\"%(key,svmTest[key]))"
   ]
  },
  {
   "cell_type": "markdown",
   "metadata": {},
   "source": [
    "Explanation:\n",
    "\n",
    "SVM need a not large and with clearly classification boundery data to make a good learning. There are few methods that could infer a best train, test sets such as: Clustring, Neighbourhood, active learning, random sampling.\n",
    "\n",
    "We choose random Sampling because it is less time consumming and less complicated to implements as the others.\n",
    "\n",
    "We also choosed 30% of the data as data_trainig because of time consumtion."
   ]
  },
  {
   "cell_type": "markdown",
   "metadata": {},
   "source": [
    "(c) Use the training set to train 3 different SVMs with different combinations of the parameters. Use at least two distinct values for the parameters _kernel_ and _C_."
   ]
  },
  {
   "cell_type": "code",
   "execution_count": 233,
   "metadata": {},
   "outputs": [
    {
     "name": "stdout",
     "output_type": "stream",
     "text": [
      "Time required =48.183419942855835s\n"
     ]
    }
   ],
   "source": [
    "#model 1 linear\n",
    "start = time.time()\n",
    "clf = svm.SVC()\n",
    "param_grid = [{'kernel':['linear'],\n",
    "             'C':[10,0.1,0.001] }]\n",
    "svm_1 = GridSearchCV(clf,param_grid)\n",
    "svm_1.fit(X_train,y_train)\n",
    "end = time.time()\n",
    "print(\"Time required =\"+str(end-start)+\"s\")"
   ]
  },
  {
   "cell_type": "code",
   "execution_count": 234,
   "metadata": {},
   "outputs": [
    {
     "name": "stdout",
     "output_type": "stream",
     "text": [
      "+------------+--------------------+----------------------------------+\n",
      "| **Kernel** |   **Best score**   |       **Best parameters**        |\n",
      "+------------+--------------------+----------------------------------+\n",
      "|  Linear    | 0.6805993084902036 | {'C': 0.001, 'kernel': 'linear'} |\n",
      "+------------+--------------------+----------------------------------+\n"
     ]
    }
   ],
   "source": [
    "x = PrettyTable(field_names=[\n",
    "    '**Kernel**','**Best score**','**Best parameters**'\n",
    "])\n",
    "x.add_row(['Linear ',\n",
    "    svm_1.best_score_ ,\n",
    "    svm_1.best_params_\n",
    "])\n",
    "print(x)\n",
    "\n",
    "pred_linear = svm_1.predict(X_test)  "
   ]
  },
  {
   "cell_type": "code",
   "execution_count": 235,
   "metadata": {},
   "outputs": [
    {
     "name": "stdout",
     "output_type": "stream",
     "text": [
      "Grid scores on development set:\n",
      "\n"
     ]
    },
    {
     "data": {
      "text/plain": [
       "0.6791394544756052"
      ]
     },
     "execution_count": 235,
     "metadata": {},
     "output_type": "execute_result"
    }
   ],
   "source": [
    "print(\"Grid scores on development set:\")\n",
    "print()\n",
    "means_svm_1 = svm_1.cv_results_['mean_test_score']\n",
    "means_svm_1\n",
    "means_svm_1.mean()"
   ]
  },
  {
   "cell_type": "code",
   "execution_count": 236,
   "metadata": {},
   "outputs": [
    {
     "name": "stdout",
     "output_type": "stream",
     "text": [
      "Time required =39.25049805641174s\n"
     ]
    }
   ],
   "source": [
    "#model 2 sigmoid\n",
    "start = time.time()\n",
    "clf = svm.SVC()\n",
    "param_grid = [{'kernel':['sigmoid'],\n",
    "             'C':[10,0.1,0.001] }]\n",
    "svm_2 = GridSearchCV(clf,param_grid)\n",
    "svm_2.fit(X_train,y_train)\n",
    "end = time.time()\n",
    "print(\"Time required =\"+str(end-start)+\"s\")"
   ]
  },
  {
   "cell_type": "code",
   "execution_count": 237,
   "metadata": {},
   "outputs": [
    {
     "name": "stdout",
     "output_type": "stream",
     "text": [
      "+------------+--------------------+---------------------------------+\n",
      "| **Kernel** |   **Best score**   |       **Best parameters**       |\n",
      "+------------+--------------------+---------------------------------+\n",
      "|  Sigmoid   | 0.6772185939300807 | {'C': 0.1, 'kernel': 'sigmoid'} |\n",
      "+------------+--------------------+---------------------------------+\n"
     ]
    }
   ],
   "source": [
    "x = PrettyTable(field_names=[\n",
    "    '**Kernel**','**Best score**','**Best parameters**'\n",
    "])\n",
    "x.add_row(['Sigmoid ',\n",
    "    svm_2.best_score_ ,\n",
    "    svm_2.best_params_\n",
    "])\n",
    "print(x)\n",
    "\n",
    "pred_sigmoid = svm_2.predict(X_test)  "
   ]
  },
  {
   "cell_type": "code",
   "execution_count": 238,
   "metadata": {},
   "outputs": [
    {
     "name": "stdout",
     "output_type": "stream",
     "text": [
      "Grid scores on development set:\n",
      "\n"
     ]
    },
    {
     "data": {
      "text/plain": [
       "0.5757459341785119"
      ]
     },
     "execution_count": 238,
     "metadata": {},
     "output_type": "execute_result"
    }
   ],
   "source": [
    "print(\"Grid scores on development set:\")\n",
    "print()\n",
    "means_svm_2 = svm_2.cv_results_['mean_test_score']\n",
    "means_svm_2\n",
    "means_svm_2.mean()"
   ]
  },
  {
   "cell_type": "code",
   "execution_count": 239,
   "metadata": {},
   "outputs": [
    {
     "name": "stdout",
     "output_type": "stream",
     "text": [
      "Time required =109.81349301338196s\n"
     ]
    }
   ],
   "source": [
    "# model 3 rbf\n",
    "start = time.time()\n",
    "clf = svm.SVC()\n",
    "param_grid = [{'kernel':['rbf'],'gamma':[5,10],\n",
    "             'C':[10,0.1] }]\n",
    "svm_3= GridSearchCV(clf,param_grid)\n",
    "svm_3.fit(X_train,y_train)\n",
    "end = time.time()\n",
    "print(\"Time required =\"+str(end-start)+\"s\")\n"
   ]
  },
  {
   "cell_type": "code",
   "execution_count": 240,
   "metadata": {},
   "outputs": [
    {
     "name": "stdout",
     "output_type": "stream",
     "text": [
      "+------------+------------------+----------------------------------------+\n",
      "| **Kernel** |  **Best score**  |          **Best parameters**           |\n",
      "+------------+------------------+----------------------------------------+\n",
      "|    rbfr    | 0.72047637341529 | {'C': 10, 'gamma': 5, 'kernel': 'rbf'} |\n",
      "+------------+------------------+----------------------------------------+\n"
     ]
    }
   ],
   "source": [
    "x = PrettyTable(field_names=[\n",
    "    '**Kernel**','**Best score**','**Best parameters**'\n",
    "])\n",
    "x.add_row(['rbfr',\n",
    "    svm_3.best_score_ ,\n",
    "    svm_3.best_params_\n",
    "])\n",
    "print(x)\n",
    "\n",
    "pred_rbfr = svm_3.predict(X_test) "
   ]
  },
  {
   "cell_type": "code",
   "execution_count": 241,
   "metadata": {},
   "outputs": [
    {
     "name": "stdout",
     "output_type": "stream",
     "text": [
      "Grid scores on development set:\n",
      "\n"
     ]
    },
    {
     "data": {
      "text/plain": [
       "array([0.72047637, 0.71056473, 0.71402228, 0.69481368])"
      ]
     },
     "execution_count": 241,
     "metadata": {},
     "output_type": "execute_result"
    }
   ],
   "source": [
    "print(\"Grid scores on development set:\")\n",
    "print()\n",
    "means_svm_3 = svm_3.cv_results_['mean_test_score']\n",
    "means_svm_3\n"
   ]
  },
  {
   "cell_type": "markdown",
   "metadata": {},
   "source": [
    "(d) Compute and print the mean accurracy and classification report of the trained SVMs with respect to the test set (as shown in instruction)."
   ]
  },
  {
   "cell_type": "code",
   "execution_count": 242,
   "metadata": {
    "scrolled": true
   },
   "outputs": [
    {
     "name": "stdout",
     "output_type": "stream",
     "text": [
      "+--------------+--------------------+-------------------------------------------------------+\n",
      "|    model     |   mean accurracy   |                 classification report                 |\n",
      "+--------------+--------------------+-------------------------------------------------------+\n",
      "| Linear model | 0.6791394544756052 |               precision    recall  f1-score   support |\n",
      "|              |                    |                                                       |\n",
      "|              |                    |            0       0.58      0.78      0.67      8526 |\n",
      "|              |                    |            1       0.52      0.39      0.45      5731 |\n",
      "|              |                    |            2       0.00      0.00      0.00      3020 |\n",
      "|              |                    |            3       0.82      0.91      0.86     13092 |\n",
      "|              |                    |                                                       |\n",
      "|              |                    |     accuracy                           0.69     30369 |\n",
      "|              |                    |    macro avg       0.48      0.52      0.49     30369 |\n",
      "|              |                    | weighted avg       0.61      0.69      0.64     30369 |\n",
      "|              |                    |                                                       |\n",
      "|   sigmoid    | 0.5757459341785119 |               precision    recall  f1-score   support |\n",
      "|              |                    |                                                       |\n",
      "|              |                    |            0       0.57      0.78      0.66      8526 |\n",
      "|              |                    |            1       0.51      0.41      0.45      5731 |\n",
      "|              |                    |            2       0.00      0.00      0.00      3020 |\n",
      "|              |                    |            3       0.83      0.89      0.86     13092 |\n",
      "|              |                    |                                                       |\n",
      "|              |                    |     accuracy                           0.68     30369 |\n",
      "|              |                    |    macro avg       0.48      0.52      0.49     30369 |\n",
      "|              |                    | weighted avg       0.61      0.68      0.64     30369 |\n",
      "|              |                    |                                                       |\n",
      "|     RBF      | 0.7099692662312715 |               precision    recall  f1-score   support |\n",
      "|              |                    |                                                       |\n",
      "|              |                    |            0       0.65      0.78      0.71      8526 |\n",
      "|              |                    |            1       0.61      0.37      0.46      5731 |\n",
      "|              |                    |            2       0.53      0.69      0.60      3020 |\n",
      "|              |                    |            3       0.88      0.86      0.87     13092 |\n",
      "|              |                    |                                                       |\n",
      "|              |                    |     accuracy                           0.73     30369 |\n",
      "|              |                    |    macro avg       0.67      0.67      0.66     30369 |\n",
      "|              |                    | weighted avg       0.73      0.73      0.72     30369 |\n",
      "|              |                    |                                                       |\n",
      "+--------------+--------------------+-------------------------------------------------------+\n"
     ]
    }
   ],
   "source": [
    "from sklearn.metrics import classification_report\n",
    "\n",
    "# Your code:\n",
    "x = PrettyTable(field_names=[\n",
    "    'model', 'mean accurracy', 'classification report'\n",
    "])\n",
    "x.add_row([\n",
    "    'Linear model',\n",
    "    means_svm_1.mean(),\n",
    "    classification_report(y_test, pred_linear)])\n",
    "x.add_row([\n",
    "    'sigmoid',\n",
    "    means_svm_2.mean(),\n",
    "    classification_report(y_test, pred_sigmoid)])\n",
    "\n",
    "x.add_row([\n",
    "    'RBF',\n",
    "    means_svm_3.mean(),\n",
    "    classification_report(y_test, pred_rbfr)])\n",
    "print(x) "
   ]
  },
  {
   "cell_type": "markdown",
   "metadata": {},
   "source": [
    "(e) Interpret and evaluate the 3 SVMs and compare them. Why are they similar/different? Which SVM do you recommend and why?"
   ]
  },
  {
   "cell_type": "markdown",
   "metadata": {},
   "source": [
    "Explanation:\n",
    "\n",
    "Sigmoig kernel is used for binary classifications, therefore is give relatively bad result.\n",
    "\n",
    "Beetween RBF and linear model we would choose the first one because even thought it works slowlier it provides higher accuracy. "
   ]
  },
  {
   "cell_type": "markdown",
   "metadata": {},
   "source": [
    "## Question 5 - Neural Networks (20 points)\n",
    "\n",
    "In this question consider the whole <b>dataset that you have created in the _Preprocessing</b> of Dataset_ section. The target feature is _population_density_categorical_.\n",
    "\n",
    "To avoid performance problems, use the first 4000 rows of your dataset (you will need 2000 for training and 2000 for testing)."
   ]
  },
  {
   "cell_type": "code",
   "execution_count": 171,
   "metadata": {},
   "outputs": [],
   "source": [
    "dataset = pd.read_csv(\"population_density_categorical.csv\", index_col = 0)[:4000]"
   ]
  },
  {
   "cell_type": "code",
   "execution_count": 172,
   "metadata": {},
   "outputs": [
    {
     "data": {
      "text/html": [
       "<div>\n",
       "<style scoped>\n",
       "    .dataframe tbody tr th:only-of-type {\n",
       "        vertical-align: middle;\n",
       "    }\n",
       "\n",
       "    .dataframe tbody tr th {\n",
       "        vertical-align: top;\n",
       "    }\n",
       "\n",
       "    .dataframe thead th {\n",
       "        text-align: right;\n",
       "    }\n",
       "</style>\n",
       "<table border=\"1\" class=\"dataframe\">\n",
       "  <thead>\n",
       "    <tr style=\"text-align: right;\">\n",
       "      <th></th>\n",
       "      <th>holiday</th>\n",
       "      <th>temperature</th>\n",
       "      <th>rain_1h</th>\n",
       "      <th>snow_1h</th>\n",
       "      <th>clouds_percentage</th>\n",
       "      <th>weather_type</th>\n",
       "      <th>weather_type_details</th>\n",
       "      <th>date_time</th>\n",
       "      <th>population_density</th>\n",
       "      <th>date</th>\n",
       "      <th>population_density_categorical</th>\n",
       "    </tr>\n",
       "  </thead>\n",
       "  <tbody>\n",
       "    <tr>\n",
       "      <th>38079</th>\n",
       "      <td>None</td>\n",
       "      <td>276.93</td>\n",
       "      <td>0.0</td>\n",
       "      <td>0.0</td>\n",
       "      <td>1</td>\n",
       "      <td>Mist</td>\n",
       "      <td>mist</td>\n",
       "      <td>10/16/2017 5:00</td>\n",
       "      <td>2874</td>\n",
       "      <td>10/16/2017</td>\n",
       "      <td>very low</td>\n",
       "    </tr>\n",
       "    <tr>\n",
       "      <th>887</th>\n",
       "      <td>None</td>\n",
       "      <td>275.44</td>\n",
       "      <td>0.0</td>\n",
       "      <td>0.0</td>\n",
       "      <td>90</td>\n",
       "      <td>Clouds</td>\n",
       "      <td>overcast clouds</td>\n",
       "      <td>11/4/2012 9:00</td>\n",
       "      <td>2911</td>\n",
       "      <td>11/4/2012</td>\n",
       "      <td>very low</td>\n",
       "    </tr>\n",
       "    <tr>\n",
       "      <th>841</th>\n",
       "      <td>None</td>\n",
       "      <td>278.78</td>\n",
       "      <td>0.0</td>\n",
       "      <td>0.0</td>\n",
       "      <td>75</td>\n",
       "      <td>Clouds</td>\n",
       "      <td>broken clouds</td>\n",
       "      <td>11/2/2012 12:00</td>\n",
       "      <td>5403</td>\n",
       "      <td>11/2/2012</td>\n",
       "      <td>high</td>\n",
       "    </tr>\n",
       "    <tr>\n",
       "      <th>37527</th>\n",
       "      <td>None</td>\n",
       "      <td>284.00</td>\n",
       "      <td>0.0</td>\n",
       "      <td>0.0</td>\n",
       "      <td>5</td>\n",
       "      <td>Clear</td>\n",
       "      <td>sky is clear</td>\n",
       "      <td>9/27/2017 22:00</td>\n",
       "      <td>2020</td>\n",
       "      <td>9/27/2017</td>\n",
       "      <td>very low</td>\n",
       "    </tr>\n",
       "    <tr>\n",
       "      <th>21471</th>\n",
       "      <td>None</td>\n",
       "      <td>275.48</td>\n",
       "      <td>0.0</td>\n",
       "      <td>0.0</td>\n",
       "      <td>75</td>\n",
       "      <td>Mist</td>\n",
       "      <td>mist</td>\n",
       "      <td>2/23/2016 19:00</td>\n",
       "      <td>3115</td>\n",
       "      <td>2/23/2016</td>\n",
       "      <td>low</td>\n",
       "    </tr>\n",
       "  </tbody>\n",
       "</table>\n",
       "</div>"
      ],
      "text/plain": [
       "      holiday  temperature  rain_1h  snow_1h  clouds_percentage weather_type  \\\n",
       "38079    None       276.93      0.0      0.0                  1         Mist   \n",
       "887      None       275.44      0.0      0.0                 90       Clouds   \n",
       "841      None       278.78      0.0      0.0                 75       Clouds   \n",
       "37527    None       284.00      0.0      0.0                  5        Clear   \n",
       "21471    None       275.48      0.0      0.0                 75         Mist   \n",
       "\n",
       "      weather_type_details        date_time  population_density        date  \\\n",
       "38079                 mist  10/16/2017 5:00                2874  10/16/2017   \n",
       "887        overcast clouds   11/4/2012 9:00                2911   11/4/2012   \n",
       "841          broken clouds  11/2/2012 12:00                5403   11/2/2012   \n",
       "37527         sky is clear  9/27/2017 22:00                2020   9/27/2017   \n",
       "21471                 mist  2/23/2016 19:00                3115   2/23/2016   \n",
       "\n",
       "      population_density_categorical  \n",
       "38079                       very low  \n",
       "887                         very low  \n",
       "841                             high  \n",
       "37527                       very low  \n",
       "21471                            low  "
      ]
     },
     "execution_count": 172,
     "metadata": {},
     "output_type": "execute_result"
    }
   ],
   "source": [
    "dataset.head()"
   ]
  },
  {
   "cell_type": "markdown",
   "metadata": {},
   "source": [
    "(a) What are the possible inputs of your network? - Show the possible extracted features. - Show the number of possible patterns of inputs for the categorical data."
   ]
  },
  {
   "cell_type": "code",
   "execution_count": 173,
   "metadata": {
    "scrolled": true
   },
   "outputs": [],
   "source": [
    "dataset['workday'] = dataset['holiday'].apply(lambda x: 1 if x == 'None' else 0)\n",
    "\n",
    "dataset['date_time_form'] = pd.to_datetime(dataset['date_time'])\n",
    "\n",
    "dataset['time'] =  dataset['date_time_form'].apply(lambda x: x.hour)\n",
    "dataset['hr_sin'] = list(map(lambda x: np.sin(x*(2.*np.pi/24)), dataset[\"time\"])) \n",
    "dataset['hr_cos'] = list(map(lambda x: np.cos(x*(2.*np.pi/24)), dataset[\"time\"]))\n",
    "\n",
    "#dataset['date'] = dataset['date_time'].apply(lambda x: x.split()[0])\n",
    "#dataset['time'] = dataset['date_time'].apply(lambda x: x.split()[1])\n",
    "#dataset['time'] = dataset['time'].apply(lambda x: int(x.split(':')[0]))\n",
    "#dataset['date_time'] = pd.to_datetime(dataset['date_time'])\n",
    "\n",
    "dataset['week'] = dataset['date_time_form'].apply(lambda x: x.isocalendar()[1])\n",
    "\n",
    "dataset['w_sin'] = list(map(lambda x: np.sin(x*(2.*np.pi/52)), dataset[\"week\"])) \n",
    "dataset['w_cos'] = list(map(lambda x: np.cos(x*(2.*np.pi/52)), dataset[\"week\"]))\n",
    "\n"
   ]
  },
  {
   "cell_type": "code",
   "execution_count": 174,
   "metadata": {},
   "outputs": [
    {
     "data": {
      "text/html": [
       "<div>\n",
       "<style scoped>\n",
       "    .dataframe tbody tr th:only-of-type {\n",
       "        vertical-align: middle;\n",
       "    }\n",
       "\n",
       "    .dataframe tbody tr th {\n",
       "        vertical-align: top;\n",
       "    }\n",
       "\n",
       "    .dataframe thead th {\n",
       "        text-align: right;\n",
       "    }\n",
       "</style>\n",
       "<table border=\"1\" class=\"dataframe\">\n",
       "  <thead>\n",
       "    <tr style=\"text-align: right;\">\n",
       "      <th></th>\n",
       "      <th>holiday</th>\n",
       "      <th>temperature</th>\n",
       "      <th>rain_1h</th>\n",
       "      <th>snow_1h</th>\n",
       "      <th>clouds_percentage</th>\n",
       "      <th>weather_type</th>\n",
       "      <th>weather_type_details</th>\n",
       "      <th>date_time</th>\n",
       "      <th>population_density</th>\n",
       "      <th>date</th>\n",
       "      <th>population_density_categorical</th>\n",
       "      <th>workday</th>\n",
       "      <th>date_time_form</th>\n",
       "      <th>time</th>\n",
       "      <th>hr_sin</th>\n",
       "      <th>hr_cos</th>\n",
       "      <th>week</th>\n",
       "      <th>w_sin</th>\n",
       "      <th>w_cos</th>\n",
       "    </tr>\n",
       "  </thead>\n",
       "  <tbody>\n",
       "    <tr>\n",
       "      <th>38079</th>\n",
       "      <td>None</td>\n",
       "      <td>276.93</td>\n",
       "      <td>0.0</td>\n",
       "      <td>0.0</td>\n",
       "      <td>1</td>\n",
       "      <td>Mist</td>\n",
       "      <td>mist</td>\n",
       "      <td>10/16/2017 5:00</td>\n",
       "      <td>2874</td>\n",
       "      <td>10/16/2017</td>\n",
       "      <td>very low</td>\n",
       "      <td>1</td>\n",
       "      <td>2017-10-16 05:00:00</td>\n",
       "      <td>5</td>\n",
       "      <td>9.659258e-01</td>\n",
       "      <td>0.258819</td>\n",
       "      <td>42</td>\n",
       "      <td>-0.935016</td>\n",
       "      <td>3.546049e-01</td>\n",
       "    </tr>\n",
       "    <tr>\n",
       "      <th>887</th>\n",
       "      <td>None</td>\n",
       "      <td>275.44</td>\n",
       "      <td>0.0</td>\n",
       "      <td>0.0</td>\n",
       "      <td>90</td>\n",
       "      <td>Clouds</td>\n",
       "      <td>overcast clouds</td>\n",
       "      <td>11/4/2012 9:00</td>\n",
       "      <td>2911</td>\n",
       "      <td>11/4/2012</td>\n",
       "      <td>very low</td>\n",
       "      <td>1</td>\n",
       "      <td>2012-11-04 09:00:00</td>\n",
       "      <td>9</td>\n",
       "      <td>7.071068e-01</td>\n",
       "      <td>-0.707107</td>\n",
       "      <td>44</td>\n",
       "      <td>-0.822984</td>\n",
       "      <td>5.680647e-01</td>\n",
       "    </tr>\n",
       "    <tr>\n",
       "      <th>841</th>\n",
       "      <td>None</td>\n",
       "      <td>278.78</td>\n",
       "      <td>0.0</td>\n",
       "      <td>0.0</td>\n",
       "      <td>75</td>\n",
       "      <td>Clouds</td>\n",
       "      <td>broken clouds</td>\n",
       "      <td>11/2/2012 12:00</td>\n",
       "      <td>5403</td>\n",
       "      <td>11/2/2012</td>\n",
       "      <td>high</td>\n",
       "      <td>1</td>\n",
       "      <td>2012-11-02 12:00:00</td>\n",
       "      <td>12</td>\n",
       "      <td>1.224647e-16</td>\n",
       "      <td>-1.000000</td>\n",
       "      <td>44</td>\n",
       "      <td>-0.822984</td>\n",
       "      <td>5.680647e-01</td>\n",
       "    </tr>\n",
       "    <tr>\n",
       "      <th>37527</th>\n",
       "      <td>None</td>\n",
       "      <td>284.00</td>\n",
       "      <td>0.0</td>\n",
       "      <td>0.0</td>\n",
       "      <td>5</td>\n",
       "      <td>Clear</td>\n",
       "      <td>sky is clear</td>\n",
       "      <td>9/27/2017 22:00</td>\n",
       "      <td>2020</td>\n",
       "      <td>9/27/2017</td>\n",
       "      <td>very low</td>\n",
       "      <td>1</td>\n",
       "      <td>2017-09-27 22:00:00</td>\n",
       "      <td>22</td>\n",
       "      <td>-5.000000e-01</td>\n",
       "      <td>0.866025</td>\n",
       "      <td>39</td>\n",
       "      <td>-1.000000</td>\n",
       "      <td>-1.836970e-16</td>\n",
       "    </tr>\n",
       "    <tr>\n",
       "      <th>21471</th>\n",
       "      <td>None</td>\n",
       "      <td>275.48</td>\n",
       "      <td>0.0</td>\n",
       "      <td>0.0</td>\n",
       "      <td>75</td>\n",
       "      <td>Mist</td>\n",
       "      <td>mist</td>\n",
       "      <td>2/23/2016 19:00</td>\n",
       "      <td>3115</td>\n",
       "      <td>2/23/2016</td>\n",
       "      <td>low</td>\n",
       "      <td>1</td>\n",
       "      <td>2016-02-23 19:00:00</td>\n",
       "      <td>19</td>\n",
       "      <td>-9.659258e-01</td>\n",
       "      <td>0.258819</td>\n",
       "      <td>8</td>\n",
       "      <td>0.822984</td>\n",
       "      <td>5.680647e-01</td>\n",
       "    </tr>\n",
       "  </tbody>\n",
       "</table>\n",
       "</div>"
      ],
      "text/plain": [
       "      holiday  temperature  rain_1h  snow_1h  clouds_percentage weather_type  \\\n",
       "38079    None       276.93      0.0      0.0                  1         Mist   \n",
       "887      None       275.44      0.0      0.0                 90       Clouds   \n",
       "841      None       278.78      0.0      0.0                 75       Clouds   \n",
       "37527    None       284.00      0.0      0.0                  5        Clear   \n",
       "21471    None       275.48      0.0      0.0                 75         Mist   \n",
       "\n",
       "      weather_type_details        date_time  population_density        date  \\\n",
       "38079                 mist  10/16/2017 5:00                2874  10/16/2017   \n",
       "887        overcast clouds   11/4/2012 9:00                2911   11/4/2012   \n",
       "841          broken clouds  11/2/2012 12:00                5403   11/2/2012   \n",
       "37527         sky is clear  9/27/2017 22:00                2020   9/27/2017   \n",
       "21471                 mist  2/23/2016 19:00                3115   2/23/2016   \n",
       "\n",
       "      population_density_categorical  workday      date_time_form  time  \\\n",
       "38079                       very low        1 2017-10-16 05:00:00     5   \n",
       "887                         very low        1 2012-11-04 09:00:00     9   \n",
       "841                             high        1 2012-11-02 12:00:00    12   \n",
       "37527                       very low        1 2017-09-27 22:00:00    22   \n",
       "21471                            low        1 2016-02-23 19:00:00    19   \n",
       "\n",
       "             hr_sin    hr_cos  week     w_sin         w_cos  \n",
       "38079  9.659258e-01  0.258819    42 -0.935016  3.546049e-01  \n",
       "887    7.071068e-01 -0.707107    44 -0.822984  5.680647e-01  \n",
       "841    1.224647e-16 -1.000000    44 -0.822984  5.680647e-01  \n",
       "37527 -5.000000e-01  0.866025    39 -1.000000 -1.836970e-16  \n",
       "21471 -9.659258e-01  0.258819     8  0.822984  5.680647e-01  "
      ]
     },
     "execution_count": 174,
     "metadata": {},
     "output_type": "execute_result"
    }
   ],
   "source": [
    "dataset.head()"
   ]
  },
  {
   "cell_type": "markdown",
   "metadata": {},
   "source": [
    "Explanation:\n",
    "\n",
    "#### holiday:\n",
    "We could extract feature 'workday', and instead of using categorical variable , that is needed to be converted to numerical for NN, we use numerical.\n",
    "\n",
    "$\\Rightarrow holiday = \\{\\textbf{holiday}, \\textbf{workday}\\}$\n",
    "\n",
    "\n",
    "#### date_time:\n",
    "This would be more convenient for us to separate this variable to date and time. We will use feature 'date_time_form' the facilitate our goal.\n",
    "We need to deal with date carefully when we split data to traing and test set. Nevertheles, date gives us important information about the season that could have huge affect on the result.\n",
    "\n",
    "For this purpose, we can consider not date by itself but the number of week it represent. That's how we got the variable 'week'. 'week' takes valuse form 1 to 52 and it is also cyclic. That's why we could use variables 'w_sin' and \t'w_cos' that preserve the margin beetween dates, whereas numerical feature could not deal with this task.\n",
    "\n",
    "$\\Rightarrow date = \\{\\textbf{week}, (\\textbf{w_sin} , \\textbf{w_cos})\\}$\n",
    "\n",
    "Analogically,\n",
    "\n",
    "\n",
    "$\\Rightarrow time = \\{\\textbf{hour}, (\\textbf{h_sin} , \\textbf{h_cos})       \\}$\n",
    "\n",
    "As we see, there are 8 possible suitable patterns of inputs."
   ]
  },
  {
   "cell_type": "markdown",
   "metadata": {},
   "source": [
    "(b) Before using the Neural Network algorithm, do you think it provides an accurate result? Why? - Your explanation should be supported by data."
   ]
  },
  {
   "cell_type": "markdown",
   "metadata": {},
   "source": [
    "Explanation: I think it would not provide aacurate score, as our data does not satisfy the rule of thumb:\n",
    "\n",
    "The number of training examples: 2000\n",
    "Number of nodes in input layer: 20 \n",
    "Number of nodes in output layer: 5\n",
    "\n",
    "If we even consider model with one hidden layer with 20 nodes, we will understand that we do not have enough traing examples.\n"
   ]
  },
  {
   "cell_type": "code",
   "execution_count": 180,
   "metadata": {},
   "outputs": [
    {
     "data": {
      "text/plain": [
       "(4000, 20)"
      ]
     },
     "execution_count": 180,
     "metadata": {},
     "output_type": "execute_result"
    }
   ],
   "source": [
    "# One-hot encoding for 'holiday' feature\n",
    "dataset_b = pd.get_dummies(dataset, columns = ['holiday'])\n",
    "\n",
    "# Features we are going to use as input for algorithm\n",
    "features = [x for x in dataset_b.columns if x not in ['week', 'population_density_categorical', 'time', 'population_density', 'date_time', \n",
    "                                                    'weather_type', 'weather_type_details', 'workday', 'date_time_form', 'date']]\n",
    "X = dataset_b[features]\n",
    "X.shape"
   ]
  },
  {
   "cell_type": "markdown",
   "metadata": {},
   "source": [
    "(c) Which features can be used for designing your network as inputs? Why? - Which features should be changed (example: from categorical to numerical or numerical to categorical)? Why? - Convert the features."
   ]
  },
  {
   "cell_type": "markdown",
   "metadata": {},
   "source": [
    "#### Explanation:\n",
    "\n",
    "NN takes as input only numerical values. Therefore we need to use one of the pattersn for categorical data stated above. \n",
    "\n",
    "For 'holiday' variable we will use one-hot encoding as it preserve more information then if we take 'workday'.\n",
    "\n",
    "For 'date_time' variabel we will consider (w_sin, w_cos) and (h_sin, h_cos) instead, for above-mentioned advantages.\n",
    "\n",
    "We will not consider features: 'weather_type', 'weather_type_details' for two reasons:\n",
    "\n",
    "1) We found that there are some duplicates on date_time with different 'weather_type' and 'weather_type_details'  values. This could confuse the model as for the same time and date the values for  'weather_type' and 'weather_type_details' differ.\n",
    "\n",
    "2) It is obvious that 'weather_type' and 'weather_type_details' features are redundant as it is possible to predict their values based on values of the following features: 'temperature', 'rain_1h', 'snow_1h', 'clouds_percentage', 'day' and 'time'"
   ]
  },
  {
   "cell_type": "code",
   "execution_count": 181,
   "metadata": {},
   "outputs": [],
   "source": [
    "# One-hot encoding for 'holiday' feature\n",
    "dataset = pd.get_dummies(dataset, columns = ['holiday'])\n",
    "\n",
    "# Features we are going to use as input for algorithm\n",
    "features = [x for x in dataset.columns if x not in ['week', 'population_density_categorical', 'time', 'population_density', 'date_time', \n",
    "                                                    'weather_type', 'weather_type_details', 'workday', 'date_time_form', 'date']]\n"
   ]
  },
  {
   "cell_type": "markdown",
   "metadata": {},
   "source": [
    "(d) Train your network with default hyperparameters and return the parameters."
   ]
  },
  {
   "cell_type": "code",
   "execution_count": 182,
   "metadata": {
    "scrolled": true
   },
   "outputs": [],
   "source": [
    "X = dataset[features]\n",
    "y = dataset['population_density_categorical']\n",
    "\n",
    "# Before submiting features as input we need to scale them\n",
    "X['temperature'] = (X.temperature - X.temperature.min())/(X.temperature.max() - X.temperature.min())\n",
    "X['rain_1h'] = (X.rain_1h - X.rain_1h.min())/(X.rain_1h.max() - X.rain_1h.min())\n",
    "X['clouds_percentage'] = X['clouds_percentage']/100"
   ]
  },
  {
   "cell_type": "code",
   "execution_count": 183,
   "metadata": {},
   "outputs": [
    {
     "data": {
      "text/plain": [
       "0.7415"
      ]
     },
     "execution_count": 183,
     "metadata": {},
     "output_type": "execute_result"
    }
   ],
   "source": [
    "from sklearn.neural_network import MLPClassifier\n",
    "from sklearn.model_selection import train_test_split\n",
    "\n",
    "X_train, X_test, y_train, y_test = train_test_split(X,y,test_size=0.5)\n",
    "nn = MLPClassifier()\n",
    "nn.fit(X_train,y_train)\n",
    "nn.score(X_test,y_test)"
   ]
  },
  {
   "cell_type": "code",
   "execution_count": 184,
   "metadata": {},
   "outputs": [
    {
     "data": {
      "text/plain": [
       "<bound method BaseEstimator.get_params of MLPClassifier(activation='relu', alpha=0.0001, batch_size='auto', beta_1=0.9,\n",
       "              beta_2=0.999, early_stopping=False, epsilon=1e-08,\n",
       "              hidden_layer_sizes=(100,), learning_rate='constant',\n",
       "              learning_rate_init=0.001, max_iter=200, momentum=0.9,\n",
       "              n_iter_no_change=10, nesterovs_momentum=True, power_t=0.5,\n",
       "              random_state=None, shuffle=True, solver='adam', tol=0.0001,\n",
       "              validation_fraction=0.1, verbose=False, warm_start=False)>"
      ]
     },
     "execution_count": 184,
     "metadata": {},
     "output_type": "execute_result"
    }
   ],
   "source": [
    "nn.get_params"
   ]
  },
  {
   "cell_type": "markdown",
   "metadata": {},
   "source": [
    "(e) Try to find an optimized number of hidden layers and nodes. - Start with default numbers and then at least go with one number above and one number below the default. - Use the 2000 rows of the data for training. - What are the optimized numbers of hidden layers and nodes that you have found?"
   ]
  },
  {
   "cell_type": "code",
   "execution_count": 185,
   "metadata": {
    "scrolled": true
   },
   "outputs": [
    {
     "name": "stdout",
     "output_type": "stream",
     "text": [
      "0.7205\n",
      "0.72\n"
     ]
    }
   ],
   "source": [
    "# Train model with 2 inner layers\n",
    "X_train, X_test, y_train, y_test = train_test_split(X,y,test_size=0.5)\n",
    "nn = MLPClassifier(hidden_layer_sizes=(100, 100))\n",
    "nn.fit(X_train,y_train)\n",
    "print(nn.score(X_test,y_test))\n",
    "\n",
    "\n",
    "# Train model with 3 inner layers\n",
    "X_train, X_test, y_train, y_test = train_test_split(X,y,test_size=0.5)\n",
    "nn = MLPClassifier(hidden_layer_sizes=(100, 100, 100))\n",
    "nn.fit(X_train,y_train)\n",
    "print(nn.score(X_test,y_test))\n"
   ]
  },
  {
   "cell_type": "code",
   "execution_count": 186,
   "metadata": {
    "scrolled": true
   },
   "outputs": [
    {
     "name": "stdout",
     "output_type": "stream",
     "text": [
      "0.715\n",
      "0.732\n"
     ]
    }
   ],
   "source": [
    "# Train model with one inner layer and 2 times less nodes\n",
    "\n",
    "X_train, X_test, y_train, y_test = train_test_split(X,y,test_size=0.5)\n",
    "nn = MLPClassifier(hidden_layer_sizes=(50))\n",
    "nn.fit(X_train,y_train)\n",
    "print(nn.score(X_test,y_test))\n",
    "\n",
    "# Train model with one inner layer and 2 times nore nodes\n",
    "X_train, X_test, y_train, y_test = train_test_split(X,y,test_size=0.5)\n",
    "nn = MLPClassifier(hidden_layer_sizes=(200))\n",
    "nn.fit(X_train,y_train)\n",
    "print(nn.score(X_test,y_test))"
   ]
  },
  {
   "cell_type": "code",
   "execution_count": 204,
   "metadata": {},
   "outputs": [
    {
     "name": "stdout",
     "output_type": "stream",
     "text": [
      "0.74\n"
     ]
    }
   ],
   "source": [
    "# Train model with 2 inner layers and 2 times more nodes\n",
    "\n",
    "X_train, X_test, y_train, y_test = train_test_split(X,y,test_size=0.5)\n",
    "nn = MLPClassifier(hidden_layer_sizes=(200, 200))\n",
    "nn.fit(X_train,y_train)\n",
    "print(nn.score(X_test,y_test))"
   ]
  },
  {
   "cell_type": "markdown",
   "metadata": {},
   "source": [
    "Explanation:\n",
    "\n",
    "As the default number of hidden layers is 1, we will consider cased #layers = 2 and #layers = 3\n",
    "And as the default number of nodes in layer is equal to 100, there is no sense to change the number of nodes by one. To see the tendency of score depending on # of nodes it is better to conseider cases: # of nodes is 2 times bigger/less then default number\n",
    "\n",
    "#### Answer:\n",
    "\n",
    "Optimal # of layers = 2\n",
    "Optimal # of nodes in a layer is approximately 200\n"
   ]
  },
  {
   "cell_type": "markdown",
   "metadata": {},
   "source": [
    "(f) Try to train your model with one linear activation function and one non-linear activation function. Use the default number of hidden layers and nodes. - Name the functions and explain how the results are different and why. - You can use evaluation metrics to show which activation function works better for this data set. - Use the 2000 rows of the data for training."
   ]
  },
  {
   "cell_type": "code",
   "execution_count": 205,
   "metadata": {
    "scrolled": true
   },
   "outputs": [
    {
     "name": "stdout",
     "output_type": "stream",
     "text": [
      "0.6645\n"
     ]
    }
   ],
   "source": [
    "# Your code: (linear activation function):\n",
    "X_train, X_test, y_train, y_test = train_test_split(X,y,test_size=0.5)\n",
    "nn = MLPClassifier(hidden_layer_sizes=(200, 200), activation = 'identity')\n",
    "nn.fit(X_train,y_train)\n",
    "print(nn.score(X_test,y_test))\n"
   ]
  },
  {
   "cell_type": "code",
   "execution_count": 206,
   "metadata": {
    "scrolled": true
   },
   "outputs": [
    {
     "name": "stdout",
     "output_type": "stream",
     "text": [
      "0.723\n"
     ]
    }
   ],
   "source": [
    "# Your code: (non-linear activation function):\n",
    "\n",
    "X_train, X_test, y_train, y_test = train_test_split(X,y,test_size=0.5)\n",
    "nn = MLPClassifier(hidden_layer_sizes=(200, 200), activation = 'logistic')\n",
    "nn.fit(X_train,y_train)\n",
    "print(nn.score(X_test,y_test))"
   ]
  },
  {
   "cell_type": "markdown",
   "metadata": {},
   "source": [
    "Explanation:\n",
    "\n",
    "We consider 2 activation functions: 'identity'(linear) and 'logistic'(non-linear)\n",
    "\n",
    "Score of the NN with optimal parametrs is higher for 'logistic' activation function. I think the advantage of non-linear activation functions is gives oppurtunity to predict even non-linear combination of inputs. Whereas NN with linear activation function whould give results lige single preceptron, because linear function of linear combination of inputs will give another linear function.\n"
   ]
  },
  {
   "cell_type": "markdown",
   "metadata": {},
   "source": [
    "## Question 6 - Evaluation (10 Points)"
   ]
  },
  {
   "cell_type": "markdown",
   "metadata": {},
   "source": [
    "(a) Consider one of the models in question 4 (c) of your choice, one neural network with optimized number of hidden layers and nodes from question 5 (e), and the neural network with non-linear activation function from question 5 (f), for a total of _three_ models, together with their respective datasets. Compute the following metrics for a 3-fold cross validation performed on each model:"
   ]
  },
  {
   "cell_type": "code",
   "execution_count": 144,
   "metadata": {},
   "outputs": [],
   "source": [
    "dataset = pd.read_csv(\"population_density_categorical.csv\",index_col=0)\n",
    "\n",
    "#  We found that there is some duplicates on date_time with different weather type values. We will keep the first inserted value as considered valid\n",
    "\n",
    "dataset.drop_duplicates(subset ='date_time', keep = 'first', inplace = True)\n",
    "\n",
    "# DateTime Processing.\n",
    "\n",
    "#dataset[\"date\"] = [ x.split(\" \")[0] for x in dataset[\"date_time\"]]\n",
    "dataset[\"time\"] = [ int(x.split(\" \")[1].split(\":\")[0]) for x in dataset[\"date_time\"]]\n",
    "dataset['date_time'] = pd.to_datetime(dataset['date_time'])\n",
    "dataset['week'] = dataset['date_time'].apply(lambda x: x.isocalendar()[1])\n",
    "dataset['w_sin'] = list(map(lambda x: np.sin(x*(2.*np.pi/52)), dataset[\"week\"]))\n",
    "dataset['w_cos'] = list(map(lambda x: np.cos(x*(2.*np.pi/52)), dataset[\"week\"]))\n",
    "dataset['hr_sin'] = list(map(lambda x: np.sin(x*(2.*np.pi/24)), dataset[\"time\"]))\n",
    "dataset['hr_cos'] = list(map(lambda x: np.cos(x*(2.*np.pi/24)), dataset[\"time\"]))\n",
    "\n",
    "# Data encoding\n",
    "\n",
    "dataset = pd.get_dummies(dataset, columns=[\"holiday\"])\n",
    "\n",
    "# Data standardization\n",
    "\n",
    "dataset['temperature'] = (dataset.temperature - dataset.temperature.min())/(dataset.temperature.max() - dataset.temperature.min())\n",
    "dataset['rain_1h'] = (dataset.rain_1h - dataset.rain_1h.min())/(dataset.rain_1h.max() - dataset.rain_1h.min())\n",
    "dataset['clouds_percentage'] = dataset['clouds_percentage']/100\n",
    "\n",
    "# Features selections\n",
    "\n",
    "feature = [x for x in dataset.columns if x not in ['week', 'population_density_categorical', 'time', 'date', 'population_density', 'date_time', 'weather_type', 'weather_type_details']]\n",
    "\n",
    "# Dataframe to Numpy\n",
    "dataset = dataset.iloc[:4000,:]\n",
    "X = dataset[feature].values\n",
    "y = dataset['population_density_categorical'].values\n",
    "labels = list(set(y))\n",
    "\n"
   ]
  },
  {
   "cell_type": "code",
   "execution_count": 145,
   "metadata": {},
   "outputs": [],
   "source": [
    "# Models\n",
    "\n",
    "Models = {\n",
    "    'SVM': {\n",
    "        \"Model\": SVC(kernel=\"linear\"),\n",
    "        \"Confusion Matrix Train\": [],\n",
    "        \"Confusion Matrix Test\": [],\n",
    "        \"Precision\": [],\n",
    "        \"Recall\": [],\n",
    "        \"F1-score\": [],\n",
    "        \"Accuracy Train\": [],\n",
    "        \"Accuracy Test\": []\n",
    "    },\n",
    "    \"MLP Optimized\": {\n",
    "        \"Model\": MLPClassifier(hidden_layer_sizes=(200,200, )),\n",
    "        \"Confusion Matrix Train\": [],\n",
    "        \"Confusion Matrix Test\": [],\n",
    "        \"Precision\": [],\n",
    "        \"Recall\": [],\n",
    "        \"F1-score\": [],\n",
    "        \"Accuracy Train\": [],\n",
    "        \"Accuracy Test\": []\n",
    "    },\n",
    "    \"MLP Non-linear\": {\n",
    "        \"Model\": MLPClassifier(activation=\"tanh\"),\n",
    "        \"Confusion Matrix Train\": [],\n",
    "        \"Accuracy Train\": [],\n",
    "        \"Confusion Matrix Test\": [],\n",
    "        \"Precision\": [],\n",
    "        \"Recall\": [],\n",
    "        \"F1-score\": [],\n",
    "        \"Accuracy Test\": []\n",
    "    }\n",
    "}\n"
   ]
  },
  {
   "cell_type": "code",
   "execution_count": 146,
   "metadata": {},
   "outputs": [],
   "source": [
    "# KFold Generator.\n",
    "kfolds = KFold(n_splits=3, shuffle=True)\n",
    "for train_index, test_index in kfolds.split(X):\n",
    "    for model in Models.keys():\n",
    "        # Train Part\n",
    "        Models[model][\"Model\"].fit(X[train_index], y[train_index])\n",
    "        predicted = Models[model][\"Model\"].predict(X[train_index])\n",
    "        Models[model][\"Confusion Matrix Train\"].append(\n",
    "            confusion_matrix(y[train_index], predicted, labels=labels))\n",
    "        Models[model][\"Accuracy Train\"].append(\n",
    "            accuracy_score(y[train_index], predicted))\n",
    "        # Test Part\n",
    "        predicted = Models[model][\"Model\"].predict(X[test_index])\n",
    "        Models[model][\"Confusion Matrix Test\"].append(\n",
    "            confusion_matrix(y[test_index], predicted, labels=labels))\n",
    "        Models[model][\"Accuracy Test\"].append(\n",
    "            accuracy_score(y[test_index], predicted))\n",
    "        Models[model][\"Precision\"].append(\n",
    "            precision_score(y[test_index], predicted, average=\"micro\"))\n",
    "        Models[model][\"Recall\"].append(\n",
    "            recall_score(y[test_index], predicted, average=\"micro\"))\n",
    "        Models[model][\"F1-score\"].append(\n",
    "            f1_score(y[test_index], predicted, average=\"micro\"))"
   ]
  },
  {
   "cell_type": "markdown",
   "metadata": {},
   "source": [
    "- Confusion matrices on the training data (sum cell-by-cell the results of each fold)"
   ]
  },
  {
   "cell_type": "code",
   "execution_count": 147,
   "metadata": {
    "scrolled": true
   },
   "outputs": [
    {
     "name": "stdout",
     "output_type": "stream",
     "text": [
      "\n",
      "Train Confusion Matrix for SVM:\n",
      "           very low  very high    high    low\n",
      "very low     3114.0        0.0   199.0  167.0\n",
      "very high     147.0        0.0   508.0  149.0\n",
      "high          206.0        0.0  1751.0  317.0\n",
      "low           288.0        0.0   566.0  588.0\n",
      "\n",
      "Train Confusion Matrix for MLP Optimized:\n",
      "           very low  very high    high    low\n",
      "very low     3127.0       98.0   154.0  101.0\n",
      "very high      43.0      577.0   182.0    2.0\n",
      "high           49.0      155.0  2015.0   55.0\n",
      "low           275.0       68.0   538.0  561.0\n",
      "\n",
      "Train Confusion Matrix for MLP Non-linear:\n",
      "           very low  very high    high    low\n",
      "very low     3061.0       57.0   194.0  168.0\n",
      "very high      85.0      271.0   448.0    0.0\n",
      "high          188.0       75.0  1817.0  194.0\n",
      "low           280.0       37.0   582.0  543.0\n"
     ]
    }
   ],
   "source": [
    "# Your code for the confusion matrices on the training data\n",
    "for model in Models:\n",
    "    total_conf = np.zeros((len(labels),len(labels)))\n",
    "    for matrix in Models[model][\"Confusion Matrix Train\"]:\n",
    "        total_conf = np.add(total_conf,matrix)\n",
    "    print(f\"\\nTrain Confusion Matrix for {model}:\")\n",
    "    print(pd.DataFrame(total_conf, index=labels, columns=labels))\n"
   ]
  },
  {
   "cell_type": "markdown",
   "metadata": {},
   "source": [
    "- Confusion matrices on the test data (sum cell-by-cell the results of each fold)"
   ]
  },
  {
   "cell_type": "code",
   "execution_count": 148,
   "metadata": {
    "scrolled": true
   },
   "outputs": [
    {
     "name": "stdout",
     "output_type": "stream",
     "text": [
      "\n",
      "Test Confusion Matrix for SVM:\n",
      "           very low  very high   high    low\n",
      "very low     1553.0        0.0  102.0   85.0\n",
      "very high      78.0        0.0  249.0   75.0\n",
      "high          102.0        0.0  876.0  159.0\n",
      "low           148.0        0.0  287.0  286.0\n",
      "\n",
      "Test Confusion Matrix for MLP Optimized:\n",
      "           very low  very high   high    low\n",
      "very low     1528.0       62.0   87.0   63.0\n",
      "very high      39.0      253.0  108.0    2.0\n",
      "high           45.0      106.0  926.0   60.0\n",
      "low           169.0       44.0  292.0  216.0\n",
      "\n",
      "Test Confusion Matrix for MLP Non-linear:\n",
      "           very low  very high   high    low\n",
      "very low     1523.0       28.0   99.0   90.0\n",
      "very high      47.0      122.0  233.0    0.0\n",
      "high           93.0       45.0  897.0  102.0\n",
      "low           145.0       22.0  291.0  263.0\n"
     ]
    }
   ],
   "source": [
    "# Your code for the confusion matrices on the test data\n",
    "for model in Models:\n",
    "    total_conf = np.zeros((len(labels),len(labels)))\n",
    "    for matrix in Models[model][\"Confusion Matrix Test\"]:\n",
    "        total_conf = np.add(total_conf,matrix)\n",
    "    print(f\"\\nTest Confusion Matrix for {model}:\")\n",
    "    print(pd.DataFrame(total_conf, index=labels, columns=labels))\n"
   ]
  },
  {
   "cell_type": "markdown",
   "metadata": {},
   "source": [
    "- Precision, recall and F1-scores on the test data (give explicitly the result for each fold)"
   ]
  },
  {
   "cell_type": "code",
   "execution_count": 149,
   "metadata": {
    "scrolled": true
   },
   "outputs": [
    {
     "name": "stdout",
     "output_type": "stream",
     "text": [
      "The model SVM on Fold 0 has: Precision = 0.6731634182908546, recall = 0.6731634182908546 and F1-Score = 0.6731634182908546\n",
      "The model SVM on Fold 1 has: Precision = 0.6751687921980495, recall = 0.6751687921980495 and F1-Score = 0.6751687921980495\n",
      "The model SVM on Fold 2 has: Precision = 0.6879219804951238, recall = 0.6879219804951238 and F1-Score = 0.6879219804951238\n",
      "The model MLP Optimized on Fold 0 has: Precision = 0.7286356821589205, recall = 0.7286356821589205 and F1-Score = 0.7286356821589205\n",
      "The model MLP Optimized on Fold 1 has: Precision = 0.7299324831207802, recall = 0.7299324831207802 and F1-Score = 0.7299324831207801\n",
      "The model MLP Optimized on Fold 2 has: Precision = 0.7336834208552138, recall = 0.7336834208552138 and F1-Score = 0.7336834208552138\n",
      "The model MLP Non-linear on Fold 0 has: Precision = 0.6836581709145427, recall = 0.6836581709145427 and F1-Score = 0.6836581709145427\n",
      "The model MLP Non-linear on Fold 1 has: Precision = 0.7021755438859715, recall = 0.7021755438859715 and F1-Score = 0.7021755438859715\n",
      "The model MLP Non-linear on Fold 2 has: Precision = 0.7179294823705926, recall = 0.7179294823705926 and F1-Score = 0.7179294823705926\n"
     ]
    }
   ],
   "source": [
    "# Your code for precision, recall and F1-scores on the test data\n",
    "for model in Models:\n",
    "    for i in range(len(Models[model][\"Precision\"])):\n",
    "        print(f'The model {model} on Fold {i} has: Precision = {Models[model][\"Precision\"][i]}, recall = {Models[model][\"Recall\"][i]} and F1-Score = {Models[model][\"F1-score\"][i]}')\n"
   ]
  },
  {
   "cell_type": "markdown",
   "metadata": {},
   "source": [
    "- Accuracy scores on training and test data (give explicitly the result for each fold)"
   ]
  },
  {
   "cell_type": "code",
   "execution_count": 150,
   "metadata": {
    "scrolled": true
   },
   "outputs": [
    {
     "name": "stdout",
     "output_type": "stream",
     "text": [
      "The model SVM on Fold 0 has: Train accuracy = 0.691297824456114 and Test accuracy = 0.6731634182908546\n",
      "The model SVM on Fold 1 has: Train accuracy = 0.6827896512935883 and Test accuracy = 0.6751687921980495\n",
      "The model SVM on Fold 2 has: Train accuracy = 0.6707911511061118 and Test accuracy = 0.6879219804951238\n",
      "The model MLP Optimized on Fold 0 has: Train accuracy = 0.7888222055513878 and Test accuracy = 0.7286356821589205\n",
      "The model MLP Optimized on Fold 1 has: Train accuracy = 0.7769028871391076 and Test accuracy = 0.7299324831207802\n",
      "The model MLP Optimized on Fold 2 has: Train accuracy = 0.7892763404574428 and Test accuracy = 0.7336834208552138\n",
      "The model MLP Non-linear on Fold 0 has: Train accuracy = 0.7134283570892723 and Test accuracy = 0.6836581709145427\n",
      "The model MLP Non-linear on Fold 1 has: Train accuracy = 0.718785151856018 and Test accuracy = 0.7021755438859715\n",
      "The model MLP Non-linear on Fold 2 has: Train accuracy = 0.7022872140982377 and Test accuracy = 0.7179294823705926\n"
     ]
    }
   ],
   "source": [
    "# Your code for accuracy scores on training and test data]\n",
    "for model in Models:\n",
    "    for i,(acc_train, acc_test) in enumerate(zip(Models[model][\"Accuracy Train\"],Models[model][\"Accuracy Test\"])):\n",
    "        print(f'The model {model} on Fold {i} has: Train accuracy = {acc_train} and Test accuracy = {acc_test}')"
   ]
  },
  {
   "cell_type": "markdown",
   "metadata": {},
   "source": [
    "In order to turn numbers into insights, please comment on your findings. Motivate the answers to the following questions using the metrics and the findings in the questions 1 through 5 of the assignment."
   ]
  },
  {
   "cell_type": "markdown",
   "metadata": {},
   "source": [
    "(b) What is, in your opinion, the best model? Motivate your answer with the correct performance metrics."
   ]
  },
  {
   "cell_type": "markdown",
   "metadata": {},
   "source": [
    "Explanation: The best model is the optimized MLP as it gives good accuracy both on train and test. Also this model gives good precision, recall and F1-score.\n",
    "We will get the same results if we analyse the confusion matrix too."
   ]
  },
  {
   "cell_type": "markdown",
   "metadata": {},
   "source": [
    "(c) Does any model suffer from underfitting or overfitting? Motivate your answer with the correct performance metrics."
   ]
  },
  {
   "cell_type": "markdown",
   "metadata": {},
   "source": [
    "Explanation: Based on the confusion matrix we see that SVM suffer from underfitting as it doesn't estimate the category 'very high'."
   ]
  },
  {
   "cell_type": "markdown",
   "metadata": {},
   "source": [
    "(d) What is the effect of employing cross validation, instead of simply holding our a certain percentage of examples as test/validation set? What are the advantages and disadvantages of cross validation?"
   ]
  },
  {
   "cell_type": "markdown",
   "metadata": {},
   "source": [
    "Explanation: Cross validation give us the ability to avoid overfitting and underfitting by testing the model each time with a new group of unseen data.\n",
    "The advantage of CV is that we can test the model in more realistic environment, instead the disadvantage is that is more time consuming."
   ]
  }
 ],
 "metadata": {
  "kernelspec": {
   "display_name": "Python 3",
   "language": "python",
   "name": "python3"
  },
  "language_info": {
   "codemirror_mode": {
    "name": "ipython",
    "version": 3
   },
   "file_extension": ".py",
   "mimetype": "text/x-python",
   "name": "python",
   "nbconvert_exporter": "python",
   "pygments_lexer": "ipython3",
   "version": "3.7.4"
  }
 },
 "nbformat": 4,
 "nbformat_minor": 1
}
